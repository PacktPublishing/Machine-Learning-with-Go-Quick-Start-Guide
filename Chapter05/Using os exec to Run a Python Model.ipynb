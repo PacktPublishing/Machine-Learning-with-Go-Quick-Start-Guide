{
 "cells": [
  {
   "cell_type": "code",
   "execution_count": 3,
   "metadata": {},
   "outputs": [],
   "source": [
    "import (\n",
    "    \"fmt\"\n",
    "     mnist \"github.com/petar/GoMNIST\"\n",
    "    \"github.com/kniren/gota/dataframe\"\n",
    "    \"github.com/kniren/gota/series\"\n",
    "    \"image\"\n",
    "    \"bytes\"\n",
    "    \"math\"\n",
    ")"
   ]
  },
  {
   "cell_type": "code",
   "execution_count": 4,
   "metadata": {},
   "outputs": [],
   "source": [
    "set, err := mnist.ReadSet(\"../datasets/mnist/images.gz\", \"../datasets/mnist/labels.gz\")"
   ]
  },
  {
   "cell_type": "code",
   "execution_count": 5,
   "metadata": {},
   "outputs": [
    {
     "data": {
      "image/png": "[encoded data removed]"
     },
     "execution_count": 5,
     "metadata": {
      "image/png": {
       "height": 28,
       "width": 28
      }
     },
     "output_type": "execute_result"
    }
   ],
   "source": [
    "set.Images[1]"
   ]
  },
  {
   "cell_type": "code",
   "execution_count": 6,
   "metadata": {},
   "outputs": [],
   "source": [
    "func MNISTSetToDataframe(st *mnist.Set, maxExamples int) dataframe.DataFrame {\n",
    "    length := maxExamples\n",
    "    if length > len(st.Images) {\n",
    "        length = len(st.Images)\n",
    "    }\n",
    "    s := make([]string, length, length)\n",
    "    l := make([]int, length, length)\n",
    "    for i := 0; i < length; i++ {\n",
    "        s[i] = string(st.Images[i])\n",
    "        l[i] = int(st.Labels[i])\n",
    "    }\n",
    "    var df dataframe.DataFrame\n",
    "    images := series.Strings(s)\n",
    "    images.Name = \"Image\"\n",
    "    labels := series.Ints(l)\n",
    "    labels.Name = \"Label\"\n",
    "    df = dataframe.New(images, labels)\n",
    "    return df\n",
    "}"
   ]
  },
  {
   "cell_type": "code",
   "execution_count": 7,
   "metadata": {},
   "outputs": [],
   "source": [
    "df := MNISTSetToDataframe(set, 1000)"
   ]
  },
  {
   "cell_type": "code",
   "execution_count": 8,
   "metadata": {},
   "outputs": [],
   "source": [
    "categories := []string{\"tshirt\", \"trouser\", \"pullover\", \"dress\", \"coat\", \"sandal\", \"shirt\", \"shoe\", \"bag\", \"boot\"}"
   ]
  },
  {
   "cell_type": "code",
   "execution_count": 13,
   "metadata": {},
   "outputs": [],
   "source": [
    "func NormalizeBytes(bs []byte) []int {\n",
    "    ret := make([]int, len(bs), len(bs))\n",
    "    for i := range bs {\n",
    "        ret[i] = int(bs[i])\n",
    "    }\n",
    "    return ret\n",
    "}\n",
    "func ImageSeriesToInts(df dataframe.DataFrame, col string) [][]int {\n",
    "    s := df.Col(col)\n",
    "    ret := make([][]int, s.Len(), s.Len())\n",
    "    for i := 0; i < s.Len(); i++ {\n",
    "        b := []byte(s.Elem(i).String())\n",
    "        ret[i] = NormalizeBytes(b)\n",
    "    }\n",
    "    return ret\n",
    "}"
   ]
  },
  {
   "cell_type": "code",
   "execution_count": 14,
   "metadata": {},
   "outputs": [],
   "source": [
    "testImages := ImageSeriesToInts(df, \"Image\")"
   ]
  },
  {
   "cell_type": "markdown",
   "metadata": {},
   "source": [
    "## Invoke the model using os/exec"
   ]
  },
  {
   "cell_type": "code",
   "execution_count": 19,
   "metadata": {},
   "outputs": [],
   "source": [
    "import (\n",
    "    \"encoding/json\"\n",
    "    \"os/exec\"\n",
    "    \"io/ioutil\"\n",
    ")"
   ]
  },
  {
   "cell_type": "code",
   "execution_count": 22,
   "metadata": {},
   "outputs": [],
   "source": [
    "func InvokeAndWait(args ...string) ([]byte, error) {\n",
    "\tvar (\n",
    "\t\toutput    []byte\n",
    "\t\terrOutput []byte\n",
    "\t\terr       error\n",
    "\t)\n",
    "\tcmd := exec.Command(\"python3\", args...)\n",
    "\tstdout, err := cmd.StdoutPipe()\n",
    "\tif err != nil {\n",
    "\t\treturn nil, err\n",
    "\t}\n",
    "\tstderr, err := cmd.StderrPipe()\n",
    "\tif err := cmd.Start(); err != nil {\n",
    "\t\treturn nil, err\n",
    "\t}\n",
    "\n",
    "\tif output, err = ioutil.ReadAll(stdout); err != nil {\n",
    "\t\treturn nil, err\n",
    "\t}\n",
    "\n",
    "\tif errOutput, err = ioutil.ReadAll(stderr); err != nil || len(errOutput) > 0 {\n",
    "\t\treturn nil, fmt.Errorf(\"Error running model: %s\", string(errOutput))\n",
    "\t}\n",
    "\n",
    "\treturn output, nil\n",
    "}"
   ]
  },
  {
   "cell_type": "code",
   "execution_count": 60,
   "metadata": {},
   "outputs": [],
   "source": [
    "// IsImageTrousers invokes the Python model to predict if image at given index is, in fact, of trousers\n",
    "func IsImageTrousers(i int) (bool, error){\n",
    "    b, err := json.Marshal(testImages[i])\n",
    "    if err != nil {\n",
    "        panic(err)\n",
    "    }\n",
    "    b, err = InvokeAndWait(\"model.py\", \"predict\", string(b))\n",
    "    if err != nil {\n",
    "        return false, err\n",
    "    } else {\n",
    "        var ret struct {\n",
    "            IsTrousers bool `json:\"is_trousers\"`\n",
    "        }\n",
    "        err := json.Unmarshal(b, &ret)\n",
    "        if err != nil {\n",
    "            return false, err\n",
    "        }\n",
    "        return ret.IsTrousers, nil\n",
    "    }\n",
    "}\n"
   ]
  },
  {
   "cell_type": "code",
   "execution_count": 76,
   "metadata": {},
   "outputs": [
    {
     "data": {
      "text/plain": [
       "true <nil>"
      ]
     },
     "execution_count": 76,
     "metadata": {},
     "output_type": "execute_result"
    }
   ],
   "source": [
    "//  Prediction\n",
    "IsImageTrousers(16)"
   ]
  },
  {
   "cell_type": "code",
   "execution_count": 75,
   "metadata": {},
   "outputs": [
    {
     "name": "stdout",
     "output_type": "stream",
     "text": [
      "// warning: expression returns 2 values, using only the first one: [int error]\n"
     ]
    },
    {
     "data": {
      "text/plain": [
       "true"
      ]
     },
     "execution_count": 75,
     "metadata": {},
     "output_type": "execute_result"
    }
   ],
   "source": [
    "// Ground truth\n",
    "df.Col(\"Label\").Elem(16).Int()==1"
   ]
  },
  {
   "cell_type": "code",
   "execution_count": 81,
   "metadata": {},
   "outputs": [
    {
     "data": {
      "text/plain": [
       "false <nil>"
      ]
     },
     "execution_count": 81,
     "metadata": {},
     "output_type": "execute_result"
    }
   ],
   "source": [
    "//  Prediction\n",
    "IsImageTrousers(0)"
   ]
  },
  {
   "cell_type": "code",
   "execution_count": 86,
   "metadata": {},
   "outputs": [
    {
     "name": "stdout",
     "output_type": "stream",
     "text": [
      "// warning: expression returns 2 values, using only the first one: [int error]\n"
     ]
    },
    {
     "data": {
      "text/plain": [
       "false"
      ]
     },
     "execution_count": 86,
     "metadata": {},
     "output_type": "execute_result"
    }
   ],
   "source": [
    "// Ground truth\n",
    "df.Col(\"Label\").Elem(0).Int()==1"
   ]
  },
  {
   "cell_type": "code",
   "execution_count": null,
   "metadata": {},
   "outputs": [],
   "source": []
  }
 ],
 "metadata": {
  "kernelspec": {
   "display_name": "Go",
   "language": "go",
   "name": "gophernotes"
  },
  "language_info": {
   "codemirror_mode": "",
   "file_extension": ".go",
   "mimetype": "",
   "name": "go",
   "nbconvert_exporter": "",
   "pygments_lexer": "",
   "version": "go1.11.4"
  }
 },
 "nbformat": 4,
 "nbformat_minor": 2
}
