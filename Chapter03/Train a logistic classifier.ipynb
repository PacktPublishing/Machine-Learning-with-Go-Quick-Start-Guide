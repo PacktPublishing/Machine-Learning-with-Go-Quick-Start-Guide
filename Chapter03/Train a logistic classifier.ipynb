{
 "cells": [
  {
   "cell_type": "markdown",
   "metadata": {},
   "source": [
    "# Train a Logistic Classifier on MNIST Data\n",
    "\n",
    "In this example we will load labels and pointers to the data into a Gota dataframe."
   ]
  },
  {
   "cell_type": "code",
   "execution_count": 1,
   "metadata": {},
   "outputs": [],
   "source": [
    "import (\n",
    "    \"fmt\"\n",
    "     mnist \"github.com/petar/GoMNIST\"\n",
    "    \"github.com/kniren/gota/dataframe\"\n",
    "    \"github.com/kniren/gota/series\"\n",
    "    \"math/rand\"\n",
    "    \"github.com/cdipaolo/goml/linear\"\n",
    "    \"github.com/cdipaolo/goml/base\"\n",
    "    \"image\"\n",
    "    \"bytes\"\n",
    "    \"math\"\n",
    "    \"github.com/gonum/stat\"\n",
    "    \"github.com/gonum/integrate\"\n",
    ")"
   ]
  },
  {
   "cell_type": "code",
   "execution_count": 2,
   "metadata": {},
   "outputs": [],
   "source": [
    "set, err := mnist.ReadSet(\"../datasets/mnist/images.gz\", \"../datasets/mnist/labels.gz\")"
   ]
  },
  {
   "cell_type": "code",
   "execution_count": 3,
   "metadata": {},
   "outputs": [
    {
     "data": {
      "image/png": "[encoded data removed]"
     },
     "execution_count": 3,
     "metadata": {
      "image/png": {
       "height": 28,
       "width": 28
      }
     },
     "output_type": "execute_result"
    }
   ],
   "source": [
    "set.Images[1]"
   ]
  },
  {
   "cell_type": "code",
   "execution_count": 4,
   "metadata": {},
   "outputs": [],
   "source": [
    "func MNISTSetToDataframe(st *mnist.Set, maxExamples int) dataframe.DataFrame {\n",
    "    length := maxExamples\n",
    "    if length > len(st.Images) {\n",
    "        length = len(st.Images)\n",
    "    }\n",
    "    s := make([]string, length, length)\n",
    "    l := make([]int, length, length)\n",
    "    for i := 0; i < length; i++ {\n",
    "        s[i] = string(st.Images[i])\n",
    "        l[i] = int(st.Labels[i])\n",
    "    }\n",
    "    var df dataframe.DataFrame\n",
    "    images := series.Strings(s)\n",
    "    images.Name = \"Image\"\n",
    "    labels := series.Ints(l)\n",
    "    labels.Name = \"Label\"\n",
    "    df = dataframe.New(images, labels)\n",
    "    return df\n",
    "}"
   ]
  },
  {
   "cell_type": "code",
   "execution_count": 5,
   "metadata": {},
   "outputs": [],
   "source": [
    "df := MNISTSetToDataframe(set, 1000)"
   ]
  },
  {
   "cell_type": "code",
   "execution_count": 6,
   "metadata": {},
   "outputs": [],
   "source": [
    "categories := []string{\"tshirt\", \"trouser\", \"pullover\", \"dress\", \"coat\", \"sandal\", \"shirt\", \"shoe\", \"bag\", \"boot\"}"
   ]
  },
  {
   "cell_type": "code",
   "execution_count": 7,
   "metadata": {},
   "outputs": [],
   "source": [
    "func Split(df dataframe.DataFrame, valFraction float64) (training dataframe.DataFrame, validation dataframe.DataFrame){\n",
    "    perm := rand.Perm(df.Nrow())\n",
    "    cutoff := int(valFraction*float64(len(perm)))\n",
    "    training = df.Subset(perm[:cutoff])\n",
    "    validation = df.Subset(perm[cutoff:])\n",
    "    return training, validation\n",
    "}"
   ]
  },
  {
   "cell_type": "code",
   "execution_count": 8,
   "metadata": {},
   "outputs": [],
   "source": [
    "training, validation := Split(df, 0.75)"
   ]
  },
  {
   "cell_type": "code",
   "execution_count": 9,
   "metadata": {},
   "outputs": [],
   "source": [
    "func EqualsInt(s series.Series, to int) (*series.Series, error) {\n",
    "    eq := make([]int, s.Len(), s.Len())\n",
    "    ints, err := s.Int()\n",
    "    if err != nil {\n",
    "        return nil, err\n",
    "    }\n",
    "    for i := range ints {\n",
    "        if ints[i] == to {\n",
    "            eq[i] = 1\n",
    "        }\n",
    "    }\n",
    "    ret := series.Ints(eq)\n",
    "    return &ret, nil\n",
    "}"
   ]
  },
  {
   "cell_type": "code",
   "execution_count": 10,
   "metadata": {},
   "outputs": [],
   "source": [
    "trainingIsTrouser, err1 := EqualsInt(training.Col(\"Label\"), 1)\n",
    "validationIsTrouser, err2 := EqualsInt(validation.Col(\"Label\"), 1)\n",
    "if err1 != nil || err2 != nil {\n",
    "    fmt.Println(\"Error\", err1, err2)\n",
    "}\n"
   ]
  },
  {
   "cell_type": "code",
   "execution_count": 11,
   "metadata": {},
   "outputs": [],
   "source": [
    "func NormalizeBytes(bs []byte) []float64 {\n",
    "    ret := make([]float64, len(bs), len(bs))\n",
    "    for i := range bs {\n",
    "        ret[i] = float64(bs[i])/255.\n",
    "    }\n",
    "    return ret\n",
    "}"
   ]
  },
  {
   "cell_type": "code",
   "execution_count": 12,
   "metadata": {},
   "outputs": [],
   "source": [
    "func ImageSeriesToFloats(df dataframe.DataFrame, col string) [][]float64 {\n",
    "    s := df.Col(col)\n",
    "    ret := make([][]float64, s.Len(), s.Len())\n",
    "    for i := 0; i < s.Len(); i++ {\n",
    "        b := []byte(s.Elem(i).String())\n",
    "        ret[i] = NormalizeBytes(b)\n",
    "    }\n",
    "    return ret\n",
    "}"
   ]
  },
  {
   "cell_type": "code",
   "execution_count": 13,
   "metadata": {},
   "outputs": [],
   "source": [
    "trainingImages := ImageSeriesToFloats(training, \"Image\")\n",
    "validationImages := ImageSeriesToFloats(validation, \"Image\")"
   ]
  },
  {
   "cell_type": "markdown",
   "metadata": {},
   "source": [
    "## Logistic Classifier for a single class"
   ]
  },
  {
   "cell_type": "code",
   "execution_count": 14,
   "metadata": {},
   "outputs": [],
   "source": [
    "model := linear.NewLogistic(base.BatchGA, 1e-4, 1, 150, trainingImages, trainingIsTrouser.Float())"
   ]
  },
  {
   "cell_type": "code",
   "execution_count": 15,
   "metadata": {},
   "outputs": [],
   "source": [
    "//Train\n",
    "err := model.Learn()\n",
    "if err != nil {\n",
    "    fmt.Println(err)\n",
    "}"
   ]
  },
  {
   "cell_type": "code",
   "execution_count": 16,
   "metadata": {},
   "outputs": [],
   "source": [
    "//Count correct classifications\n",
    "var correct = 0.\n",
    "for i := range validationImages {\n",
    "    prediction, err := model.Predict(validationImages[i])\n",
    "    if err != nil {\n",
    "        panic(err)\n",
    "    }\n",
    "    \n",
    "    if math.Round(prediction[0]) == validationIsTrouser.Elem(i).Float() {\n",
    "        correct++\n",
    "    }\n",
    "}"
   ]
  },
  {
   "cell_type": "code",
   "execution_count": 17,
   "metadata": {},
   "outputs": [
    {
     "data": {
      "text/plain": [
       "0.988"
      ]
     },
     "execution_count": 17,
     "metadata": {},
     "output_type": "execute_result"
    }
   ],
   "source": [
    "//accuracy\n",
    "correct/float64(len(validationImages))"
   ]
  },
  {
   "cell_type": "code",
   "execution_count": 18,
   "metadata": {},
   "outputs": [],
   "source": [
    "//Count true positives and false negatives\n",
    "var truePositives = 0.\n",
    "var falsePositives = 0.\n",
    "var falseNegatives = 0.\n",
    "for i := range validationImages {\n",
    "    prediction, err := model.Predict(validationImages[i])\n",
    "    if err != nil {\n",
    "        panic(err)\n",
    "    }\n",
    "    if validationIsTrouser.Elem(i).Float() == 1 {\n",
    "        if math.Round(prediction[0]) == 0 {\n",
    "            // Predicted false, but actually true\n",
    "            falseNegatives ++\n",
    "        } else {\n",
    "            // Predicted true, correctly\n",
    "            truePositives ++\n",
    "        }\n",
    "    } else {\n",
    "        if math.Round(prediction[0]) == 1 {\n",
    "            // Predicted true, but actually false\n",
    "            falsePositives ++\n",
    "        }\n",
    "    }\n",
    "}"
   ]
  },
  {
   "cell_type": "code",
   "execution_count": 19,
   "metadata": {},
   "outputs": [
    {
     "data": {
      "text/plain": [
       "1"
      ]
     },
     "execution_count": 19,
     "metadata": {},
     "output_type": "execute_result"
    }
   ],
   "source": [
    "//precision\n",
    "truePositives/(truePositives+falsePositives)"
   ]
  },
  {
   "cell_type": "code",
   "execution_count": 20,
   "metadata": {},
   "outputs": [
    {
     "data": {
      "text/plain": [
       "0.9032258064516129"
      ]
     },
     "execution_count": 20,
     "metadata": {},
     "output_type": "execute_result"
    }
   ],
   "source": [
    "//recall\n",
    "truePositives/(truePositives+falseNegatives)"
   ]
  },
  {
   "cell_type": "markdown",
   "metadata": {},
   "source": [
    "## Using the Softmax model for multi-class classification"
   ]
  },
  {
   "cell_type": "code",
   "execution_count": 21,
   "metadata": {},
   "outputs": [],
   "source": [
    "model2 := linear.NewSoftmax(base.BatchGA, 1e-4, 1, 10, 100, trainingImages, training.Col(\"Label\").Float())"
   ]
  },
  {
   "cell_type": "code",
   "execution_count": 22,
   "metadata": {},
   "outputs": [],
   "source": [
    "//Train\n",
    "err := model2.Learn()\n",
    "if err != nil {\n",
    "    fmt.Println(err)\n",
    "}"
   ]
  },
  {
   "cell_type": "code",
   "execution_count": 23,
   "metadata": {},
   "outputs": [],
   "source": [
    "func MaxIndex(f []float64) (i int){\n",
    "    var (\n",
    "        curr float64\n",
    "        ix int = -1\n",
    "    )\n",
    "    for i := range f {\n",
    "        if f[i] > curr {\n",
    "            curr = f[i]\n",
    "            ix = i\n",
    "        }\n",
    "    }\n",
    "    return ix\n",
    "}"
   ]
  },
  {
   "cell_type": "code",
   "execution_count": 24,
   "metadata": {},
   "outputs": [],
   "source": [
    "//create objects for ROC generation\n",
    "//as per https://godoc.org/github.com/gonum/stat#ROC\n",
    "y := make([][]float64, len(categories), len(categories))\n",
    "classes := make([][]bool, len(categories), len(categories))\n",
    "//Validate\n",
    "for i := 0; i < validation.Col(\"Image\").Len(); i++ {\n",
    "    prediction, err := model2.Predict(validationImages[i])\n",
    "    if err != nil {\n",
    "        panic(err)\n",
    "    }\n",
    "    for j := range categories {\n",
    "        y[j] = append(y[j], prediction[j])\n",
    "        classes[j] = append(classes[j], validation.Col(\"Label\").Elem(i).Float() != float64(j))\n",
    "    }\n",
    "}"
   ]
  },
  {
   "cell_type": "code",
   "execution_count": 25,
   "metadata": {},
   "outputs": [],
   "source": [
    "//Calculate ROC\n",
    "tprs := make([][]float64, len(categories), len(categories))\n",
    "fprs := make([][]float64, len(categories), len(categories))\n",
    "\n",
    "for i := range categories {\n",
    "    stat.SortWeightedLabeled(y[i], classes[i], nil)\n",
    "    tprs[i], fprs[i] = stat.ROC(0, y[i], classes[i], nil)\n",
    "}"
   ]
  },
  {
   "cell_type": "code",
   "execution_count": 26,
   "metadata": {},
   "outputs": [
    {
     "name": "stdout",
     "output_type": "stream",
     "text": [
      "tshirt\n",
      "0.9189451938267107\n",
      "trouser\n",
      "0.9577257328030637\n",
      "pullover\n",
      "0.6114433811802232\n",
      "dress\n",
      "0.8977530926533703\n",
      "coat\n",
      "0.9302815552576138\n",
      "sandal\n",
      "0.961950330371383\n",
      "shirt\n",
      "0.5922229153670202\n",
      "shoe\n",
      "0.9562527618205923\n",
      "bag\n",
      "0.9096607669616519\n",
      "boot\n",
      "0.9862095384026048\n"
     ]
    }
   ],
   "source": [
    "for i := range categories {\n",
    "    fmt.Println(categories[i])\n",
    "    auc := integrate.Trapezoidal(fprs[i], tprs[i])\n",
    "    fmt.Println(auc)\n",
    "}"
   ]
  },
  {
   "cell_type": "code",
   "execution_count": 27,
   "metadata": {},
   "outputs": [],
   "source": [
    "import (\n",
    "    \"gonum.org/v1/plot\"\n",
    "    \"gonum.org/v1/plot/plotter\"\n",
    "    \"gonum.org/v1/plot/plotutil\"\n",
    "    \"gonum.org/v1/plot/vg\"\n",
    "    \"bufio\"\n",
    ")"
   ]
  },
  {
   "cell_type": "code",
   "execution_count": 28,
   "metadata": {},
   "outputs": [],
   "source": [
    "func plotROCBytes(fprs, tprs [][]float64, labels []string) []byte {\n",
    "    p, err := plot.New()\n",
    "    if err != nil {\n",
    "        panic(err)\n",
    "    }\n",
    "\n",
    "    p.Title.Text = \"ROC Curves\"\n",
    "    p.X.Label.Text = \"False Positive Rate\"\n",
    "    p.Y.Label.Text = \"True Positive Rate\"\n",
    "    \n",
    "    for i := range labels {\n",
    "        pts := make(plotter.XYs, len(fprs[i]))\n",
    "        for j := range fprs[i] {\n",
    "            pts[j].X = fprs[i][j]\n",
    "            pts[j].Y = tprs[i][j]\n",
    "        }\n",
    "        lines, points, err := plotter.NewLinePoints(pts)\n",
    "        if err != nil {\n",
    "            panic(err)\n",
    "        }\n",
    "        lines.Color = plotutil.Color(i)\n",
    "        lines.Width = 2\n",
    "        points.Shape = nil\n",
    "\n",
    "        p.Add(lines, points)\n",
    "        p.Legend.Add(labels[i], lines, points)\n",
    "    }\n",
    "\n",
    "    w, err := p.WriterTo(5*vg.Inch, 4*vg.Inch, \"jpg\")\n",
    "    if err != nil{\n",
    "        panic(err)\n",
    "    }\n",
    "    if err := p.Save(5*vg.Inch, 4*vg.Inch, \"Multi-class ROC.jpg\"); err != nil {\n",
    "        panic(err)\n",
    "    }\n",
    "    var b bytes.Buffer\n",
    "    writer := bufio.NewWriter(&b)\n",
    "    w.WriteTo(writer)\n",
    "    return b.Bytes()\n",
    "}"
   ]
  },
  {
   "cell_type": "code",
   "execution_count": 29,
   "metadata": {},
   "outputs": [
    {
     "data": {
      "image/jpeg": "[encoded data removed]",
      "text/plain": [
       "image/jpeg"
      ]
     },
     "execution_count": 29,
     "metadata": {},
     "output_type": "execute_result"
    }
   ],
   "source": [
    "display.JPEG(plotROCBytes(fprs, tprs, categories))"
   ]
  },
  {
   "cell_type": "code",
   "execution_count": null,
   "metadata": {},
   "outputs": [],
   "source": []
  }
 ],
 "metadata": {
  "kernelspec": {
   "display_name": "Go",
   "language": "go",
   "name": "gophernotes"
  },
  "language_info": {
   "codemirror_mode": "",
   "file_extension": ".go",
   "mimetype": "",
   "name": "go",
   "nbconvert_exporter": "",
   "pygments_lexer": "",
   "version": "go1.11.4"
  }
 },
 "nbformat": 4,
 "nbformat_minor": 2
}
