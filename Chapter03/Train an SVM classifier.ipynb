{
 "cells": [
  {
   "cell_type": "markdown",
   "metadata": {},
   "source": [
    "# Train an SVM Classifier on MNIST Data\n",
    "\n",
    "In this example we will load labels and pointers to the data into a Gota dataframe."
   ]
  },
  {
   "cell_type": "code",
   "execution_count": 1,
   "metadata": {},
   "outputs": [],
   "source": [
    "import (\n",
    "    \"fmt\"\n",
    "     mnist \"github.com/petar/GoMNIST\"\n",
    "    \"github.com/kniren/gota/dataframe\"\n",
    "    \"github.com/kniren/gota/series\"\n",
    "    \"math/rand\"\n",
    "    \"os\"\n",
    ")\n"
   ]
  },
  {
   "cell_type": "code",
   "execution_count": 2,
   "metadata": {},
   "outputs": [],
   "source": [
    "if os.Getenv(\"GODEBUG\") != \"cgocheck=0\" {\n",
    "    fmt.Println(\"WARNING: GODEBUG Not set to cgocheck=0. This example will probably not work!\")\n",
    "}"
   ]
  },
  {
   "cell_type": "code",
   "execution_count": 3,
   "metadata": {},
   "outputs": [],
   "source": [
    "set, err := mnist.ReadSet(\"../datasets/mnist/images.gz\", \"../datasets/mnist/labels.gz\")"
   ]
  },
  {
   "cell_type": "code",
   "execution_count": 4,
   "metadata": {},
   "outputs": [],
   "source": [
    "func MNISTSetToDataframe(st *mnist.Set, maxExamples int) dataframe.DataFrame {\n",
    "    length := maxExamples\n",
    "    if length > len(st.Images) {\n",
    "        length = len(st.Images)\n",
    "    }\n",
    "    s := make([]string, length, length)\n",
    "    l := make([]int, length, length)\n",
    "    for i := 0; i < length; i++ {\n",
    "        s[i] = string(st.Images[i])\n",
    "        l[i] = int(st.Labels[i])\n",
    "    }\n",
    "    var df dataframe.DataFrame\n",
    "    images := series.Strings(s)\n",
    "    images.Name = \"Image\"\n",
    "    labels := series.Ints(l)\n",
    "    labels.Name = \"Label\"\n",
    "    df = dataframe.New(images, labels)\n",
    "    return df\n",
    "}"
   ]
  },
  {
   "cell_type": "code",
   "execution_count": 5,
   "metadata": {},
   "outputs": [
    {
     "data": {
      "image/png": "[encoded data removed]"
     },
     "execution_count": 5,
     "metadata": {
      "image/png": {
       "height": 28,
       "width": 28
      }
     },
     "output_type": "execute_result"
    }
   ],
   "source": [
    "set.Images[1]"
   ]
  },
  {
   "cell_type": "code",
   "execution_count": 6,
   "metadata": {},
   "outputs": [],
   "source": [
    "df := MNISTSetToDataframe(set, 1000)"
   ]
  },
  {
   "cell_type": "code",
   "execution_count": 7,
   "metadata": {},
   "outputs": [],
   "source": [
    "categories := []string{\"tshirt\", \"trouser\", \"pullover\", \"dress\", \"coat\", \"sandal\", \"shirt\", \"shoe\", \"bag\", \"boot\"}"
   ]
  },
  {
   "cell_type": "code",
   "execution_count": 8,
   "metadata": {},
   "outputs": [],
   "source": [
    "func EqualsInt(s series.Series, to int) (*series.Series, error) {\n",
    "    eq := make([]int, s.Len(), s.Len())\n",
    "    ints, err := s.Int()\n",
    "    if err != nil {\n",
    "        return nil, err\n",
    "    }\n",
    "    for i := range ints {\n",
    "        if ints[i] == to {\n",
    "            eq[i] = 1\n",
    "        }\n",
    "    }\n",
    "    ret := series.Ints(eq)\n",
    "    return &ret, nil\n",
    "}"
   ]
  },
  {
   "cell_type": "code",
   "execution_count": 9,
   "metadata": {},
   "outputs": [],
   "source": [
    "func Split(df dataframe.DataFrame, valFraction float64) (training dataframe.DataFrame, validation dataframe.DataFrame){\n",
    "    perm := rand.Perm(df.Nrow())\n",
    "    cutoff := int(valFraction*float64(len(perm)))\n",
    "    training = df.Subset(perm[:cutoff])\n",
    "    validation = df.Subset(perm[cutoff:])\n",
    "    return training, validation\n",
    "}"
   ]
  },
  {
   "cell_type": "code",
   "execution_count": 10,
   "metadata": {},
   "outputs": [],
   "source": [
    "training, validation := Split(df, 0.75)"
   ]
  },
  {
   "cell_type": "code",
   "execution_count": 11,
   "metadata": {},
   "outputs": [],
   "source": [
    "trainingIsTrouser, err1 := EqualsInt(training.Col(\"Label\"), 1)\n",
    "validationIsTrouser, err2 := EqualsInt(validation.Col(\"Label\"), 1)\n",
    "if err1 != nil || err2 != nil {\n",
    "    fmt.Println(\"Error\", err1, err2)\n",
    "}\n"
   ]
  },
  {
   "cell_type": "code",
   "execution_count": 12,
   "metadata": {},
   "outputs": [],
   "source": [
    "import (\n",
    "    \"image\"\n",
    "    \"bytes\"\n",
    "    \"math\"\n",
    "    \"github.com/gonum/stat\"\n",
    "    \"github.com/gonum/integrate\"\n",
    ")"
   ]
  },
  {
   "cell_type": "code",
   "execution_count": 13,
   "metadata": {},
   "outputs": [],
   "source": [
    "func NormalizeBytes(bs []byte) []float64 {\n",
    "    ret := make([]float64, len(bs), len(bs))\n",
    "    for i := range bs {\n",
    "        ret[i] = float64(bs[i])/255.\n",
    "    }\n",
    "    return ret\n",
    "}"
   ]
  },
  {
   "cell_type": "code",
   "execution_count": 14,
   "metadata": {},
   "outputs": [],
   "source": [
    "func ImageSeriesToFloats(df dataframe.DataFrame, col string) [][]float64 {\n",
    "    s := df.Col(col)\n",
    "    ret := make([][]float64, s.Len(), s.Len())\n",
    "    for i := 0; i < s.Len(); i++ {\n",
    "        b := []byte(s.Elem(i).String())\n",
    "        ret[i] = NormalizeBytes(b)\n",
    "    }\n",
    "    return ret\n",
    "}"
   ]
  },
  {
   "cell_type": "markdown",
   "metadata": {},
   "source": [
    "## SVC Classifier using LibSVM"
   ]
  },
  {
   "cell_type": "code",
   "execution_count": 15,
   "metadata": {},
   "outputs": [],
   "source": [
    "import \"github.com/datastream/libsvm\""
   ]
  },
  {
   "cell_type": "code",
   "execution_count": 16,
   "metadata": {},
   "outputs": [],
   "source": [
    "//construct outputs\n",
    "trainingImages := ImageSeriesToFloats(training, \"Image\")\n",
    "validationImages := ImageSeriesToFloats(validation, \"Image\")\n",
    "\n",
    "trainingOutputs := make([]float64, len(trainingImages))\n",
    "validationOutputs := make([]float64, len(validationImages))\n",
    "\n",
    "ltCol:= training.Col(\"Label\")\n",
    "for i := range trainingImages {\n",
    "    trainingOutputs[i] = ltCol.Elem(i).Float()\n",
    "}\n",
    "\n",
    "lvCol:= validation.Col(\"Label\")\n",
    "for i := range validationImages {\n",
    "    validationOutputs[i] = lvCol.Elem(i).Float()\n",
    "}"
   ]
  },
  {
   "cell_type": "code",
   "execution_count": 17,
   "metadata": {},
   "outputs": [],
   "source": [
    "//  FloatstoSVMNode converts a slice of float64 to SVMNode with sequential indices starting at 1\n",
    "func FloatsToSVMNode(f []float64) []libsvm.SVMNode {\n",
    "    ret := make([]libsvm.SVMNode, len(f), len(f))\n",
    "    for i := range f {\n",
    "        ret[i] = libsvm.SVMNode{\n",
    "            Index: i+1,\n",
    "            Value: f[i],\n",
    "        }\n",
    "    }\n",
    "    //End of Vector\n",
    "    ret = append(ret, libsvm.SVMNode{\n",
    "        Index: -1,\n",
    "        Value: 0,\n",
    "    })\n",
    "    return ret\n",
    "}"
   ]
  },
  {
   "cell_type": "code",
   "execution_count": 18,
   "metadata": {},
   "outputs": [],
   "source": [
    "//construct inputs following https://github.com/cjlin1/libsvm\n",
    "var (\n",
    "    trainingProblem libsvm.SVMProblem\n",
    "    validationProblem libsvm.SVMProblem\n",
    ")\n",
    "\n",
    "trainingProblem.L = len(trainingImages)\n",
    "validationProblem.L = len(validationImages)\n",
    "for i := range trainingImages {\n",
    "    trainingProblem.X = append(trainingProblem.X, FloatsToSVMNode(trainingImages[i]))\n",
    "}\n",
    "trainingProblem.Y = trainingOutputs\n",
    "\n",
    "for i := range validationImages {\n",
    "    validationProblem.X = append(validationProblem.X, FloatsToSVMNode(validationImages[i]))\n",
    "}\n",
    "validationProblem.Y = validationOutputs\n"
   ]
  },
  {
   "cell_type": "code",
   "execution_count": 19,
   "metadata": {},
   "outputs": [],
   "source": [
    "//  configure SVM\n",
    "svm := libsvm.NewSvm()\n",
    "//  From Python notebook\n",
    "param := libsvm.SVMParameter{\n",
    "    SvmType: libsvm.CSVC,\n",
    "    KernelType: libsvm.RBF,\n",
    "    C: 100,\n",
    "    Gamma: 0.01,\n",
    "    Coef0: 0,\n",
    "    Degree: 3,\n",
    "    Eps: 0.001,\n",
    "    Probability: 1,\n",
    "}"
   ]
  },
  {
   "cell_type": "code",
   "execution_count": 20,
   "metadata": {},
   "outputs": [],
   "source": [
    "model := svm.SVMTrain(&trainingProblem, &param)"
   ]
  },
  {
   "cell_type": "markdown",
   "metadata": {},
   "source": [
    "Calculate accuracy and ROC curves."
   ]
  },
  {
   "cell_type": "code",
   "execution_count": 21,
   "metadata": {},
   "outputs": [
    {
     "name": "stdout",
     "output_type": "stream",
     "text": [
      "Train Accuracy:  1.00\n",
      "Validation Accuracy:  0.82\n"
     ]
    },
    {
     "data": {
      "text/plain": [
       "27 <nil>"
      ]
     },
     "execution_count": 21,
     "metadata": {},
     "output_type": "execute_result"
    }
   ],
   "source": [
    "var (\n",
    "    trainCorrect float64\n",
    "    validCorrect float64\n",
    ")\n",
    "predictions := make([]int, len(validationProblem.X), len(validationProblem.X))\n",
    "p := make([]float64, len(categories), len(categories))  // pre-allocated probability slice\n",
    "// for ROC\n",
    "probs := make([][]float64, len(validationProblem.X), len(validationProblem.X))\n",
    "\n",
    "for i := range trainingProblem.X {\n",
    "    prediction := svm.SVMPredictProbability(model, trainingProblem.X[i], p)\n",
    "    if prediction == trainingProblem.Y[i] {\n",
    "        trainCorrect++\n",
    "    }\n",
    "}\n",
    "\n",
    "for i := range validationProblem.X {\n",
    "    prediction := svm.SVMPredictProbability(model, validationProblem.X[i], p)\n",
    "    probs[i] = make([]float64, len(categories))\n",
    "    copy(probs[i], p)\n",
    "    predictions[i] = int(prediction)\n",
    "    if prediction == validationProblem.Y[i] {\n",
    "        validCorrect++\n",
    "    }\n",
    "}\n",
    "fmt.Printf(\"Train Accuracy: %5.2f\\n\",  trainCorrect/float64(len(trainingProblem.X)))\n",
    "fmt.Printf(\"Validation Accuracy: %5.2f\\n\",  validCorrect/float64(len(validationProblem.X)))"
   ]
  },
  {
   "cell_type": "code",
   "execution_count": 22,
   "metadata": {},
   "outputs": [],
   "source": [
    "//create objects for ROC generation\n",
    "//as per https://godoc.org/github.com/gonum/stat#ROC\n",
    "y := make([][]float64, len(categories), len(categories))\n",
    "classes := make([][]bool, len(categories), len(categories))\n",
    "labels := model.Label\n",
    "for i := range y {\n",
    "    classes[i] = make([]bool, len(probs), len(probs))\n",
    "}\n",
    "\n",
    "for i := range probs {\n",
    "    for j := range categories {\n",
    "        y[labels[j]] = append(y[labels[j]], probs[i][j])\n",
    "        classes[labels[j]][i] = float64(labels[j]) != validationProblem.Y[i]\n",
    "    }\n",
    "    \n",
    "}"
   ]
  },
  {
   "cell_type": "code",
   "execution_count": 23,
   "metadata": {},
   "outputs": [],
   "source": [
    "//Calculate ROC\n",
    "tprs := make([][]float64, len(categories), len(categories))\n",
    "fprs := make([][]float64, len(categories), len(categories))\n",
    "\n",
    "for i := range categories {\n",
    "    stat.SortWeightedLabeled(y[i], classes[i], nil)\n",
    "    tprs[i], fprs[i] = stat.ROC(0, y[i], classes[i], nil)\n",
    "}"
   ]
  },
  {
   "cell_type": "code",
   "execution_count": 24,
   "metadata": {},
   "outputs": [
    {
     "name": "stdout",
     "output_type": "stream",
     "text": [
      "tshirt\n",
      "0.994166970470288\n",
      "trouser\n",
      "0.9924878479893946\n",
      "pullover\n",
      "0.9583333333333334\n",
      "dress\n",
      "0.9974753850037869\n",
      "coat\n",
      "0.9766328289599693\n",
      "sandal\n",
      "0.9970380496696286\n",
      "shirt\n",
      "0.9317945518818881\n",
      "shoe\n",
      "0.992782442185889\n",
      "bag\n",
      "0.9996312684365781\n",
      "boot\n",
      "0.9923386324458917\n"
     ]
    }
   ],
   "source": [
    "for i := range categories {\n",
    "    fmt.Println(categories[i])\n",
    "    auc := integrate.Trapezoidal(fprs[i], tprs[i])\n",
    "    fmt.Println(auc)\n",
    "}"
   ]
  },
  {
   "cell_type": "code",
   "execution_count": 25,
   "metadata": {},
   "outputs": [],
   "source": [
    "import (\n",
    "    \"gonum.org/v1/plot\"\n",
    "    \"gonum.org/v1/plot/plotter\"\n",
    "    \"gonum.org/v1/plot/plotutil\"\n",
    "    \"gonum.org/v1/plot/vg\"\n",
    "    \"bufio\"\n",
    ")"
   ]
  },
  {
   "cell_type": "code",
   "execution_count": 26,
   "metadata": {},
   "outputs": [],
   "source": [
    "func plotROCBytes(fprs, tprs [][]float64, labels []string) []byte {\n",
    "    p, err := plot.New()\n",
    "    if err != nil {\n",
    "        panic(err)\n",
    "    }\n",
    "\n",
    "    p.Title.Text = \"ROC Curves\"\n",
    "    p.X.Label.Text = \"False Positive Rate\"\n",
    "    p.Y.Label.Text = \"True Positive Rate\"\n",
    "    \n",
    "    for i := range labels {\n",
    "        pts := make(plotter.XYs, len(fprs[i]))\n",
    "        for j := range fprs[i] {\n",
    "            pts[j].X = fprs[i][j]\n",
    "            pts[j].Y = tprs[i][j]\n",
    "        }\n",
    "        lines, points, err := plotter.NewLinePoints(pts)\n",
    "        if err != nil {\n",
    "            panic(err)\n",
    "        }\n",
    "        lines.Color = plotutil.Color(i)\n",
    "        lines.Width = 2\n",
    "        points.Shape = nil\n",
    "\n",
    "        p.Add(lines, points)\n",
    "        p.Legend.Add(labels[i], lines, points)\n",
    "    }\n",
    "\n",
    "    w, err := p.WriterTo(5*vg.Inch, 4*vg.Inch, \"jpg\")\n",
    "    if err != nil{\n",
    "        panic(err)\n",
    "    }\n",
    "    if err := p.Save(5*vg.Inch, 4*vg.Inch, \"SVM ROC.jpg\"); err != nil {\n",
    "        panic(err)\n",
    "    }\n",
    "    var b bytes.Buffer\n",
    "    writer := bufio.NewWriter(&b)\n",
    "    w.WriteTo(writer)\n",
    "    return b.Bytes()\n",
    "}"
   ]
  },
  {
   "cell_type": "code",
   "execution_count": 27,
   "metadata": {},
   "outputs": [
    {
     "data": {
      "image/jpeg": "[encoded data removed]",
      "text/plain": [
       "image/jpeg"
      ]
     },
     "execution_count": 27,
     "metadata": {},
     "output_type": "execute_result"
    }
   ],
   "source": [
    "display.JPEG(plotROCBytes(fprs, tprs, categories))"
   ]
  },
  {
   "cell_type": "code",
   "execution_count": null,
   "metadata": {},
   "outputs": [],
   "source": []
  }
 ],
 "metadata": {
  "kernelspec": {
   "display_name": "Go",
   "language": "go",
   "name": "gophernotes"
  },
  "language_info": {
   "codemirror_mode": "",
   "file_extension": ".go",
   "mimetype": "",
   "name": "go",
   "nbconvert_exporter": "",
   "pygments_lexer": "",
   "version": "go1.11.4"
  }
 },
 "nbformat": 4,
 "nbformat_minor": 2
}
