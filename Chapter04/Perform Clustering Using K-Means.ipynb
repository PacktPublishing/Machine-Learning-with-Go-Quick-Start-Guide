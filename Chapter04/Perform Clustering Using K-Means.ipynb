{
 "cells": [
  {
   "cell_type": "markdown",
   "metadata": {},
   "source": [
    "# Perform Clustering Using K-Means\n",
    "\n",
    "In this example we will load the Iris dataset and use unsupervised learning to use the features to predict the species of iris."
   ]
  },
  {
   "cell_type": "code",
   "execution_count": 1,
   "metadata": {},
   "outputs": [],
   "source": [
    "import (\n",
    "    \"fmt\"\n",
    "    \"github.com/kniren/gota/dataframe\"\n",
    "    \"github.com/kniren/gota/series\"\n",
    "    \"io/ioutil\"\n",
    "    \"bytes\"\n",
    "    \"math/rand\"\n",
    ")"
   ]
  },
  {
   "cell_type": "code",
   "execution_count": 4,
   "metadata": {},
   "outputs": [],
   "source": [
    "const path = \"../datasets/iris/iris.csv\""
   ]
  },
  {
   "cell_type": "code",
   "execution_count": 5,
   "metadata": {},
   "outputs": [],
   "source": [
    "b, err := ioutil.ReadFile(path)\n",
    "if err != nil {\n",
    "    fmt.Println(\"Error!\", err)\n",
    "}\n",
    "df := dataframe.ReadCSV(bytes.NewReader(b))\n",
    "df.SetNames(\"petal length\", \"petal width\", \"sepal length\", \"sepal width\", \"species\")"
   ]
  },
  {
   "cell_type": "code",
   "execution_count": 6,
   "metadata": {},
   "outputs": [
    {
     "data": {
      "text/plain": [
       "[150x5] DataFrame\n",
       "\n",
       "    petal length petal width sepal length sepal width species\n",
       " 0: 5.100000     3.500000    1.400000     0.200000    0      \n",
       " 1: 4.900000     3.000000    1.400000     0.200000    0      \n",
       " 2: 4.700000     3.200000    1.300000     0.200000    0      \n",
       " 3: 4.600000     3.100000    1.500000     0.200000    0      \n",
       " 4: 5.000000     3.600000    1.400000     0.200000    0      \n",
       " 5: 5.400000     3.900000    1.700000     0.400000    0      \n",
       " 6: 4.600000     3.400000    1.400000     0.300000    0      \n",
       " 7: 5.000000     3.400000    1.500000     0.200000    0      \n",
       " 8: 4.400000     2.900000    1.400000     0.200000    0      \n",
       " 9: 4.900000     3.100000    1.500000     0.100000    0      \n",
       "    ...          ...         ...          ...         ...    \n",
       "    <float>      <float>     <float>      <float>     <int>  \n"
      ]
     },
     "execution_count": 6,
     "metadata": {},
     "output_type": "execute_result"
    }
   ],
   "source": [
    "df"
   ]
  },
  {
   "cell_type": "code",
   "execution_count": 7,
   "metadata": {},
   "outputs": [],
   "source": [
    "//  DataFrameToXYs converts a dataframe with float64 columns to a slice of independent variable columns as floats\n",
    "//  and the dependent variable (yCol). This can then be used with eg. goml's linear ML algorithms.\n",
    "//  yCol is optional - if it doesn't exist only the x (independent) variables will be returned.\n",
    "func DataFrameToXYs(df dataframe.DataFrame, yCol string) ([][]float64, []float64){\n",
    "    var (\n",
    "        x [][]float64\n",
    "        y []float64\n",
    "        yColIx = -1\n",
    "    )\n",
    "    \n",
    "    //find dependent variable column index\n",
    "    for i, col := range df.Names() {\n",
    "        if col == yCol {\n",
    "            yColIx = i\n",
    "            break\n",
    "        }\n",
    "    }\n",
    "    if yColIx == -1 {\n",
    "        fmt.Println(\"Warning - no dependent variable\")\n",
    "    }\n",
    "    x = make([][]float64, df.Nrow(), df.Nrow())   \n",
    "    y = make([]float64, df.Nrow())\n",
    "    for i := 0; i < df.Nrow(); i++ {\n",
    "        var xx []float64\n",
    "        for j := 0; j < df.Ncol(); j ++ {\n",
    "            if j == yColIx {\n",
    "                y[i] = df.Elem(i, j).Float()\n",
    "                continue\n",
    "            }\n",
    "            xx = append(xx, df.Elem(i,j).Float())\n",
    "        }\n",
    "        x[i] = xx        \n",
    "    }\n",
    "    return x, y\n",
    "}"
   ]
  },
  {
   "cell_type": "code",
   "execution_count": 8,
   "metadata": {},
   "outputs": [],
   "source": [
    "features, classification := DataFrameToXYs(df, \"species\")"
   ]
  },
  {
   "cell_type": "markdown",
   "metadata": {},
   "source": [
    "# Train K Means\n",
    "\n",
    "Now that we have pre-processed the data we will use the K Means algorithm to group it into 3 clusters - one for each species."
   ]
  },
  {
   "cell_type": "code",
   "execution_count": 27,
   "metadata": {},
   "outputs": [],
   "source": [
    "import (\n",
    "    \"gonum.org/v1/plot\"\n",
    "    \"gonum.org/v1/plot/plotter\"\n",
    "    \"gonum.org/v1/plot/plotutil\"\n",
    "    \"gonum.org/v1/plot/vg\"\n",
    "    \"gonum.org/v1/plot/vg/draw\"\n",
    "    \"github.com/cdipaolo/goml/cluster\"\n",
    "    \"github.com/cdipaolo/goml/base\"\n",
    "    \"bufio\"\n",
    "    \"strconv\"\n",
    ")"
   ]
  },
  {
   "cell_type": "code",
   "execution_count": 10,
   "metadata": {},
   "outputs": [],
   "source": [
    "model := cluster.NewKMeans(3, 30, features)"
   ]
  },
  {
   "cell_type": "code",
   "execution_count": 11,
   "metadata": {},
   "outputs": [],
   "source": [
    "if err := model.Learn(); err != nil {\n",
    "\tpanic(err)\n",
    "}"
   ]
  },
  {
   "cell_type": "code",
   "execution_count": 25,
   "metadata": {},
   "outputs": [],
   "source": [
    "//  PredictionsToScatterData gets predictions from the model based on the features and converts to map from label to XYs\n",
    "func PredictionsToScatterData(features [][]float64, labels []float64, model base.Model, featureForXAxis, featureForYAxis int) (map[int]plotter.XYs, map[int][]float64) {\n",
    "    ret := make(map[int]plotter.XYs)\n",
    "    labelMap := make(map[int][]float64)\n",
    "    if features == nil {\n",
    "        panic(\"No features to plot\")\n",
    "    }\n",
    "    \n",
    "    for i := range features {\n",
    "        var pt struct{X, Y float64}\n",
    "        pt.X = features[i][featureForXAxis]\n",
    "        pt.Y = features[i][featureForYAxis]\n",
    "        p, _ := model.Predict(features[i])\n",
    "        labelMap[int(p[0])] = append(labelMap[int(p[0])], labels[i])\n",
    "        ret[int(p[0])] = append(ret[int(p[0])], pt)\n",
    "    }\n",
    "    return ret, labelMap\n",
    "}"
   ]
  },
  {
   "cell_type": "code",
   "execution_count": 18,
   "metadata": {},
   "outputs": [],
   "source": [
    "/**\n",
    "    NB. This is required because gophernotes comes with an old version of goml. When it gets updated we can remove most of this.\n",
    "*/\n",
    "\n",
    "type LegacyXYs plotter.XYs\n",
    "\n",
    "func (xys LegacyXYs) Len() int {\n",
    "\treturn len(xys)\n",
    "}\n",
    "\n",
    "func (xys LegacyXYs) XY(i int) (float64, float64) {\n",
    "\treturn xys[i].X, xys[i].Y\n",
    "}"
   ]
  },
  {
   "cell_type": "code",
   "execution_count": 26,
   "metadata": {},
   "outputs": [],
   "source": [
    "scatterData, labels := PredictionsToScatterData(features, classification, model, 2, 3)"
   ]
  },
  {
   "cell_type": "code",
   "execution_count": 65,
   "metadata": {},
   "outputs": [],
   "source": [
    "\n",
    "func PlotClusterData(labelsToXYs map[int]plotter.XYs, classes map[int][]float64, xLabel, yLabel string) ([]uint8, error) {\n",
    "    p, err := plot.New()\n",
    "    if err != nil {\n",
    "        return nil, err\n",
    "    }\n",
    "    p.Title.Text = \"Iris Dataset K-Means Example\"\n",
    "    //p.X.Min = 4\n",
    "    //p.X.Max = 9\n",
    "    p.X.Padding = 0\n",
    "    p.X.Label.Text = xLabel\n",
    "    //p.Y.Min = 1.5\n",
    "    //p.Y.Max = 4.5\n",
    "    p.Y.Padding = 0\n",
    "    p.Y.Label.Text = yLabel\n",
    "    for i := range labelsToXYs {\n",
    "        s, err := plotter.NewScatter(LegacyXYs(labelsToXYs[i])) //Remove LegacyXYs when gophernotes updated to use latest goml\n",
    "        s.GlyphStyleFunc = func (ii int) func(jj int) draw.GlyphStyle {\n",
    "            return func(j int) draw.GlyphStyle {\n",
    "            var gs draw.GlyphStyle\n",
    "            if j >= len(classes[ii]){\n",
    "                gs.Shape = plotutil.Shape(10)\n",
    "            } else {\n",
    "                gs.Shape = plotutil.Shape(int(classes[ii][j]))\n",
    "            }\n",
    "            gs.Color = plotutil.Color(ii)\n",
    "            gs.Radius = 2.\n",
    "            return gs\n",
    "            }\n",
    "        }(i)\n",
    "        //s.Color = plotutil.Color(i)\n",
    "        //s.Shape = plotutil.Shape(i)\n",
    "        p.Add(s)\n",
    "        n := strconv.Itoa(i)\n",
    "        p.Legend.Add(n)\n",
    "        if err != nil {\n",
    "            return nil, err\n",
    "        }\n",
    "    }\n",
    "    w, err := p.WriterTo(5*vg.Inch, 4*vg.Inch, \"jpg\")\n",
    "    if err != nil{\n",
    "        return nil, err\n",
    "    }\n",
    "    if err := p.Save(5*vg.Inch, 4*vg.Inch, \"Clustering Scatter.jpg\"); err != nil {\n",
    "        return nil, err\n",
    "    }\n",
    "    var b bytes.Buffer\n",
    "    writer := bufio.NewWriter(&b)\n",
    "    w.WriteTo(writer)\n",
    "    return b.Bytes(), nil\n",
    "}"
   ]
  },
  {
   "cell_type": "code",
   "execution_count": 66,
   "metadata": {},
   "outputs": [
    {
     "data": {
      "image/jpeg": "[encoded data removed]",
      "text/plain": [
       "image/jpeg"
      ]
     },
     "execution_count": 66,
     "metadata": {},
     "output_type": "execute_result"
    }
   ],
   "source": [
    "b, _ := PlotClusterData(scatterData, labels, \"Sepal length\", \"Sepal width\")\n",
    "display.JPEG(b)"
   ]
  },
  {
   "cell_type": "code",
   "execution_count": null,
   "metadata": {},
   "outputs": [],
   "source": []
  }
 ],
 "metadata": {
  "kernelspec": {
   "display_name": "Go",
   "language": "go",
   "name": "gophernotes"
  },
  "language_info": {
   "codemirror_mode": "",
   "file_extension": ".go",
   "mimetype": "",
   "name": "go",
   "nbconvert_exporter": "",
   "pygments_lexer": "",
   "version": "go1.11.4"
  }
 },
 "nbformat": 4,
 "nbformat_minor": 2
}
