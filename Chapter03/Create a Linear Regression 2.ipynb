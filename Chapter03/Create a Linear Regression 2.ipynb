{
 "cells": [
  {
   "cell_type": "markdown",
   "metadata": {},
   "source": [
    "# Create a Linear Regression\n",
    "\n",
    "In this example we will load California house price data to a gota dataframe and perform a linear regression to predict the median house price based on other variables such as the median income. "
   ]
  },
  {
   "cell_type": "code",
   "execution_count": 2,
   "metadata": {},
   "outputs": [],
   "source": [
    "import (\n",
    "    \"fmt\"\n",
    "    \"github.com/kniren/gota/dataframe\"\n",
    "    \"github.com/kniren/gota/series\"\n",
    "    \"math/rand\"\n",
    "    \"image\"\n",
    "    \"bytes\"\n",
    "    \"math\"\n",
    "    \"github.com/gonum/stat\"\n",
    "    \"github.com/gonum/integrate\"\n",
    "    \"github.com/sajari/regression\"\n",
    "    \"io/ioutil\"\n",
    ")"
   ]
  },
  {
   "cell_type": "code",
   "execution_count": 3,
   "metadata": {},
   "outputs": [],
   "source": [
    "const path = \"../datasets/housing/CaliforniaHousing/cal_housing.data\""
   ]
  },
  {
   "cell_type": "code",
   "execution_count": 4,
   "metadata": {},
   "outputs": [],
   "source": [
    "columns := []string{\"longitude\", \"latitude\", \"housingMedianAge\", \"totalRooms\", \"totalBedrooms\", \"population\", \"households\", \"medianIncome\", \"medianHouseValue\"}\n",
    "b, err := ioutil.ReadFile(path)\n",
    "if err != nil {\n",
    "    fmt.Println(\"Error!\", err)\n",
    "}\n",
    "df := dataframe.ReadCSV(bytes.NewReader(b), dataframe.Names(columns...))"
   ]
  },
  {
   "cell_type": "code",
   "execution_count": 5,
   "metadata": {},
   "outputs": [],
   "source": [
    "// Divide divides two series and returns a series with the given name. The series must have the same length.\n",
    "func Divide(s1 series.Series, s2 series.Series, name string) series.Series {\n",
    "    if s1.Len() != s2.Len() {\n",
    "        panic(\"Series must have the same length!\")\n",
    "    }\n",
    "    \n",
    "    ret := make([]interface{}, s1.Len(), s1.Len())\n",
    "    for i := 0; i < s1.Len(); i ++ {\n",
    "        ret[i] = s1.Elem(i).Float()/s2.Elem(i).Float()\n",
    "    }\n",
    "    s := series.Floats(ret)\n",
    "    s.Name = name\n",
    "    return s\n",
    "}\n",
    "\n",
    "//  MultiplyConst multiplies the series by a constant and returns another series with the same name.\n",
    "func MultiplyConst(s series.Series, f float64) series.Series {\n",
    "    ret := make([]interface{}, s.Len(), s.Len())\n",
    "    for i := 0; i < s.Len(); i ++ {\n",
    "        ret[i] = s.Elem(i).Float()*f\n",
    "    }\n",
    "    ss := series.Floats(ret)\n",
    "    ss.Name = s.Name\n",
    "    return ss\n",
    "}"
   ]
  },
  {
   "cell_type": "code",
   "execution_count": 6,
   "metadata": {},
   "outputs": [
    {
     "data": {
      "text/plain": [
       "[20639x9] DataFrame\n",
       "\n",
       "    longitude   latitude  housingMedianAge totalRooms  totalBedrooms ...\n",
       " 0: -122.220000 37.860000 21.000000        7099.000000 1106.000000   ...\n",
       " 1: -122.240000 37.850000 52.000000        1467.000000 190.000000    ...\n",
       " 2: -122.250000 37.850000 52.000000        1274.000000 235.000000    ...\n",
       " 3: -122.250000 37.850000 52.000000        1627.000000 280.000000    ...\n",
       " 4: -122.250000 37.850000 52.000000        919.000000  213.000000    ...\n",
       " 5: -122.250000 37.840000 52.000000        2535.000000 489.000000    ...\n",
       " 6: -122.250000 37.840000 52.000000        3104.000000 687.000000    ...\n",
       " 7: -122.260000 37.840000 42.000000        2555.000000 665.000000    ...\n",
       " 8: -122.250000 37.840000 52.000000        3549.000000 707.000000    ...\n",
       " 9: -122.260000 37.850000 52.000000        2202.000000 434.000000    ...\n",
       "    ...         ...       ...              ...         ...           ...\n",
       "    <float>     <float>   <float>          <float>     <float>       ...\n",
       "\n",
       "Not Showing: population <float>, households <float>, medianIncome <float>,\n",
       "medianHouseValue <float>\n"
      ]
     },
     "execution_count": 6,
     "metadata": {},
     "output_type": "execute_result"
    }
   ],
   "source": [
    "df"
   ]
  },
  {
   "cell_type": "code",
   "execution_count": 7,
   "metadata": {},
   "outputs": [],
   "source": [
    "df = df.Mutate(Divide(df.Col(\"totalRooms\"), df.Col(\"households\"), \"averageRooms\"))\n",
    "df = df.Mutate(Divide(df.Col(\"totalBedrooms\"), df.Col(\"households\"), \"averageBedrooms\"))\n",
    "df = df.Mutate(Divide(df.Col(\"population\"), df.Col(\"households\"), \"averageOccupancy\"))\n",
    "df = df.Mutate(MultiplyConst(df.Col(\"medianHouseValue\"), 0.00001))\n",
    "df = df.Select([]string{\"medianIncome\", \"housingMedianAge\", \"averageRooms\", \"averageBedrooms\", \"population\", \"averageOccupancy\", \"latitude\", \"longitude\", \"medianHouseValue\" })"
   ]
  },
  {
   "cell_type": "code",
   "execution_count": 8,
   "metadata": {},
   "outputs": [
    {
     "data": {
      "text/plain": [
       "[20639x9] DataFrame\n",
       "\n",
       "    medianIncome housingMedianAge averageRooms averageBedrooms population  ...\n",
       " 0: 8.301400     21.000000        6.238137     0.971880        2401.000000 ...\n",
       " 1: 7.257400     52.000000        8.288136     1.073446        496.000000  ...\n",
       " 2: 5.643100     52.000000        5.817352     1.073059        558.000000  ...\n",
       " 3: 3.846200     52.000000        6.281853     1.081081        565.000000  ...\n",
       " 4: 4.036800     52.000000        4.761658     1.103627        413.000000  ...\n",
       " 5: 3.659100     52.000000        4.931907     0.951362        1094.000000 ...\n",
       " 6: 3.120000     52.000000        4.797527     1.061824        1157.000000 ...\n",
       " 7: 2.080400     42.000000        4.294118     1.117647        1206.000000 ...\n",
       " 8: 3.691200     52.000000        4.970588     0.990196        1551.000000 ...\n",
       " 9: 3.203100     52.000000        5.477612     1.079602        910.000000  ...\n",
       "    ...          ...              ...          ...             ...         ...\n",
       "    <float>      <float>          <float>      <float>         <float>     ...\n",
       "\n",
       "Not Showing: averageOccupancy <float>, latitude <float>, longitude <float>,\n",
       "medianHouseValue <float>\n"
      ]
     },
     "execution_count": 8,
     "metadata": {},
     "output_type": "execute_result"
    }
   ],
   "source": [
    "df"
   ]
  },
  {
   "cell_type": "code",
   "execution_count": 9,
   "metadata": {},
   "outputs": [],
   "source": [
    "func Split(df dataframe.DataFrame, valFraction float64) (training dataframe.DataFrame, validation dataframe.DataFrame){\n",
    "    perm := rand.Perm(df.Nrow())\n",
    "    cutoff := int(valFraction*float64(len(perm)))\n",
    "    training = df.Subset(perm[:cutoff])\n",
    "    validation = df.Subset(perm[cutoff:])\n",
    "    return training, validation\n",
    "}"
   ]
  },
  {
   "cell_type": "code",
   "execution_count": 10,
   "metadata": {},
   "outputs": [],
   "source": [
    "training, validation := Split(df, 0.75)"
   ]
  },
  {
   "cell_type": "code",
   "execution_count": 12,
   "metadata": {},
   "outputs": [],
   "source": [
    "//  DataFrameToXYs converts a dataframe with float64 columns to a slice of independent variable columns as floats\n",
    "//  and the dependent variable (yCol). This can then be used with eg. goml's linear ML algorithms.\n",
    "//  yCol is optional - if it doesn't exist only the x (independent) variables will be returned.\n",
    "func DataFrameToXYs(df dataframe.DataFrame, yCol string) ([][]float64, []float64){\n",
    "    var (\n",
    "        x [][]float64\n",
    "        y []float64\n",
    "        yColIx = -1\n",
    "    )\n",
    "    \n",
    "    //find dependent variable column index\n",
    "    for i, col := range df.Names() {\n",
    "        if col == yCol {\n",
    "            yColIx = i\n",
    "            break\n",
    "        }\n",
    "    }\n",
    "    if yColIx == -1 {\n",
    "        fmt.Println(\"Warning - no dependent variable\")\n",
    "    }\n",
    "    x = make([][]float64, df.Nrow(), df.Nrow())   \n",
    "    y = make([]float64, df.Nrow())\n",
    "    for i := 0; i < df.Nrow(); i++ {\n",
    "        var xx []float64\n",
    "        for j := 0; j < df.Ncol(); j ++ {\n",
    "            if j == yColIx {\n",
    "                y[i] = df.Elem(i, j).Float()\n",
    "                continue\n",
    "            }\n",
    "            xx = append(xx, df.Elem(i,j).Float())\n",
    "        }\n",
    "        x[i] = xx        \n",
    "    }\n",
    "    return x, y\n",
    "}"
   ]
  },
  {
   "cell_type": "code",
   "execution_count": 21,
   "metadata": {},
   "outputs": [],
   "source": [
    "trainingX, trainingY := DataFrameToXYs(training, \"medianHouseValue\")\n",
    "validationX, validationY := DataFrameToXYs(validation, \"medianHouseValue\")"
   ]
  },
  {
   "cell_type": "markdown",
   "metadata": {},
   "source": [
    "## Linear Regression for Median House Price"
   ]
  },
  {
   "cell_type": "code",
   "execution_count": 33,
   "metadata": {},
   "outputs": [],
   "source": [
    "model := new(regression.Regression)"
   ]
  },
  {
   "cell_type": "code",
   "execution_count": 34,
   "metadata": {},
   "outputs": [],
   "source": [
    "for i := range trainingX {\n",
    "    model.Train(regression.DataPoint(trainingY[i], trainingX[i]))\n",
    "}\n",
    "if err := model.Run(); err != nil {\n",
    "    fmt.Println(err)\n",
    "}"
   ]
  },
  {
   "cell_type": "markdown",
   "metadata": {},
   "source": [
    "## Calculate the Mean Square Error"
   ]
  },
  {
   "cell_type": "code",
   "execution_count": 35,
   "metadata": {},
   "outputs": [
    {
     "name": "stdout",
     "output_type": "stream",
     "text": [
      "// warning: expression returns 2 values, using only the first one: [int error]\n",
      "MSE:  0.51\n"
     ]
    },
    {
     "data": {
      "text/plain": [
       "11 <nil>"
      ]
     },
     "execution_count": 35,
     "metadata": {},
     "output_type": "execute_result"
    }
   ],
   "source": [
    "//On validation set\n",
    "errors := make([]float64, len(validationX), len(validationX))\n",
    "for i := range validationX {\n",
    "    prediction, err := model.Predict(validationX[i])\n",
    "    if err != nil {\n",
    "        panic(fmt.Println(\"Prediction error\", err))\n",
    "    }\n",
    "    errors[i] = (prediction - validationY[i])*(prediction - validationY[i])\n",
    "}\n",
    "\n",
    "fmt.Printf(\"MSE: %5.2f\\n\", stat.Mean(errors, nil))"
   ]
  },
  {
   "cell_type": "code",
   "execution_count": 36,
   "metadata": {},
   "outputs": [
    {
     "name": "stdout",
     "output_type": "stream",
     "text": [
      "// warning: expression returns 2 values, using only the first one: [int error]\n",
      "MSE:  0.53\n"
     ]
    },
    {
     "data": {
      "text/plain": [
       "11 <nil>"
      ]
     },
     "execution_count": 36,
     "metadata": {},
     "output_type": "execute_result"
    }
   ],
   "source": [
    "// On training set\n",
    "errors := make([]float64, len(trainingX), len(trainingX))\n",
    "for i := range trainingX {\n",
    "    prediction, err := model.Predict(trainingX[i])\n",
    "    if err != nil {\n",
    "        panic(fmt.Println(\"Prediction error\", err))\n",
    "    }\n",
    "    errors[i] = (prediction - trainingY[i])*(prediction - trainingY[i])\n",
    "}\n",
    "\n",
    "fmt.Printf(\"MSE: %5.2f\\n\", stat.Mean(errors, nil))"
   ]
  },
  {
   "cell_type": "code",
   "execution_count": null,
   "metadata": {},
   "outputs": [],
   "source": []
  }
 ],
 "metadata": {
  "kernelspec": {
   "display_name": "Go",
   "language": "go",
   "name": "gophernotes"
  },
  "language_info": {
   "codemirror_mode": "",
   "file_extension": ".go",
   "mimetype": "",
   "name": "go",
   "nbconvert_exporter": "",
   "pygments_lexer": "",
   "version": "go1.11.4"
  }
 },
 "nbformat": 4,
 "nbformat_minor": 2
}
