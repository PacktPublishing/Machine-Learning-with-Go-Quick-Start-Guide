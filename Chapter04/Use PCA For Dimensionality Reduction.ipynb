{
 "cells": [
  {
   "cell_type": "markdown",
   "metadata": {},
   "source": [
    "# Use PCA For Dimensionality Reduction\n",
    "\n",
    "In this example we will use Principal Components Analysis (PCA) to reduce the dimensionality in the feature set from 4 to 2 in a way that best explains the output variance."
   ]
  },
  {
   "cell_type": "code",
   "execution_count": 1,
   "metadata": {},
   "outputs": [],
   "source": [
    "import (\n",
    "    \"fmt\"\n",
    "    \"github.com/kniren/gota/dataframe\"\n",
    "    \"github.com/kniren/gota/series\"\n",
    "    \"io/ioutil\"\n",
    "    \"bytes\"\n",
    ")"
   ]
  },
  {
   "cell_type": "code",
   "execution_count": 2,
   "metadata": {},
   "outputs": [],
   "source": [
    "const path = \"../datasets/iris/iris.csv\""
   ]
  },
  {
   "cell_type": "code",
   "execution_count": 3,
   "metadata": {},
   "outputs": [],
   "source": [
    "b, err := ioutil.ReadFile(path)\n",
    "if err != nil {\n",
    "    fmt.Println(\"Error!\", err)\n",
    "}\n",
    "df := dataframe.ReadCSV(bytes.NewReader(b))\n",
    "df.SetNames(\"petal length\", \"petal width\", \"sepal length\", \"sepal width\", \"species\")"
   ]
  },
  {
   "cell_type": "code",
   "execution_count": 4,
   "metadata": {},
   "outputs": [
    {
     "data": {
      "text/plain": [
       "[150x5] DataFrame\n",
       "\n",
       "    petal length petal width sepal length sepal width species\n",
       " 0: 5.100000     3.500000    1.400000     0.200000    0      \n",
       " 1: 4.900000     3.000000    1.400000     0.200000    0      \n",
       " 2: 4.700000     3.200000    1.300000     0.200000    0      \n",
       " 3: 4.600000     3.100000    1.500000     0.200000    0      \n",
       " 4: 5.000000     3.600000    1.400000     0.200000    0      \n",
       " 5: 5.400000     3.900000    1.700000     0.400000    0      \n",
       " 6: 4.600000     3.400000    1.400000     0.300000    0      \n",
       " 7: 5.000000     3.400000    1.500000     0.200000    0      \n",
       " 8: 4.400000     2.900000    1.400000     0.200000    0      \n",
       " 9: 4.900000     3.100000    1.500000     0.100000    0      \n",
       "    ...          ...         ...          ...         ...    \n",
       "    <float>      <float>     <float>      <float>     <int>  \n"
      ]
     },
     "execution_count": 4,
     "metadata": {},
     "output_type": "execute_result"
    }
   ],
   "source": [
    "df"
   ]
  },
  {
   "cell_type": "code",
   "execution_count": 5,
   "metadata": {},
   "outputs": [],
   "source": [
    "//  Standardise maps the given column values by subtracting mean and rescaling by standard deviation\n",
    "func Standardise(df dataframe.DataFrame, col string) dataframe.DataFrame {\n",
    "    s := df.Col(col)\n",
    "    std := s.StdDev()\n",
    "    mean := s.Mean()\n",
    "    v := make([]float64, s.Len(), s.Len())\n",
    "    for i := 0; i < s.Len(); i++ {\n",
    "        v[i] = (s.Elem(i).Float()-mean)/std\n",
    "    }\n",
    "    rs := series.Floats(v)\n",
    "    rs.Name = col\n",
    "    return df.Mutate(rs)\n",
    "}"
   ]
  },
  {
   "cell_type": "code",
   "execution_count": 6,
   "metadata": {},
   "outputs": [],
   "source": [
    "//  DropColumn returns a new dataframe that does not include the given column\n",
    "func DropColumn(df dataframe.DataFrame, col string) dataframe.DataFrame {\n",
    "    var s []series.Series\n",
    "    for _, c := range df.Names() {\n",
    "        if c == col {\n",
    "            continue\n",
    "        }\n",
    "        s = append(s, df.Col(c))\n",
    "    }\n",
    "    return dataframe.New(s...)\n",
    "}"
   ]
  },
  {
   "cell_type": "code",
   "execution_count": 7,
   "metadata": {},
   "outputs": [],
   "source": [
    "df = Standardise(df, \"petal length\")\n",
    "df = Standardise(df, \"petal width\")\n",
    "df = Standardise(df, \"sepal length\")\n",
    "df = Standardise(df, \"sepal width\")\n",
    "labels := df.Col(\"species\").Float()\n",
    "df = DropColumn(df, \"species\")"
   ]
  },
  {
   "cell_type": "code",
   "execution_count": 8,
   "metadata": {},
   "outputs": [
    {
     "data": {
      "text/plain": [
       "[150x4] DataFrame\n",
       "\n",
       "    petal length petal width sepal length sepal width\n",
       " 0: -0.897674    1.015602    -1.335752    -1.311052  \n",
       " 1: -1.139200    -0.131539   -1.335752    -1.311052  \n",
       " 2: -1.380727    0.327318    -1.392399    -1.311052  \n",
       " 3: -1.501490    0.097889    -1.279104    -1.311052  \n",
       " 4: -1.018437    1.245030    -1.335752    -1.311052  \n",
       " 5: -0.535384    1.933315    -1.165809    -1.048667  \n",
       " 6: -1.501490    0.786174    -1.335752    -1.179859  \n",
       " 7: -1.018437    0.786174    -1.279104    -1.311052  \n",
       " 8: -1.743017    -0.360967   -1.335752    -1.311052  \n",
       " 9: -1.139200    0.097889    -1.279104    -1.442245  \n",
       "    ...          ...         ...          ...        \n",
       "    <float>      <float>     <float>      <float>    \n"
      ]
     },
     "execution_count": 8,
     "metadata": {},
     "output_type": "execute_result"
    }
   ],
   "source": [
    "df"
   ]
  },
  {
   "cell_type": "code",
   "execution_count": 9,
   "metadata": {},
   "outputs": [],
   "source": [
    "import (\n",
    "    \"github.com/gonum/matrix/mat64\"\n",
    ")"
   ]
  },
  {
   "cell_type": "code",
   "execution_count": 10,
   "metadata": {},
   "outputs": [],
   "source": [
    "//  DataFrameToMatrix converts the given dataframe to a gonum matrix\n",
    "func DataFrameToMatrix(df dataframe.DataFrame) mat64.Matrix {\n",
    "    var x []float64 //slice to hold matrix entries in row-major order\n",
    "    \n",
    "    for i := 0; i < df.Nrow(); i++ {\n",
    "        for j := 0; j < df.Ncol(); j ++ {\n",
    "            x = append(x, df.Elem(i,j).Float())\n",
    "        }    \n",
    "    }\n",
    "    return mat64.NewDense(df.Nrow(), df.Ncol(), x)\n",
    "}"
   ]
  },
  {
   "cell_type": "code",
   "execution_count": 11,
   "metadata": {},
   "outputs": [],
   "source": [
    "features := DataFrameToMatrix(df)"
   ]
  },
  {
   "cell_type": "markdown",
   "metadata": {},
   "source": [
    "# Create PCA\n",
    "\n",
    "Now that we have pre-processed the data we will perform PCA on the features matrix, keeping the first 2 components."
   ]
  },
  {
   "cell_type": "code",
   "execution_count": 12,
   "metadata": {},
   "outputs": [],
   "source": [
    "import (\n",
    "    \"gonum.org/v1/plot\"\n",
    "    \"gonum.org/v1/plot/plotter\"\n",
    "    \"gonum.org/v1/plot/plotutil\"\n",
    "    \"gonum.org/v1/plot/vg\"\n",
    "    \"github.com/cdipaolo/goml/cluster\"\n",
    "    \"github.com/cdipaolo/goml/base\"\n",
    "    \"github.com/gonum/stat\"\n",
    "    \"bufio\"\n",
    "    \"strconv\"\n",
    ")"
   ]
  },
  {
   "cell_type": "code",
   "execution_count": 13,
   "metadata": {},
   "outputs": [],
   "source": [
    "model := stat.PC{}\n",
    "if ok := model.PrincipalComponents(features, nil); !ok {\n",
    "    fmt.Println(\"Error!\")\n",
    "}"
   ]
  },
  {
   "cell_type": "code",
   "execution_count": 14,
   "metadata": {},
   "outputs": [],
   "source": [
    "variances := model.Vars(nil)\n",
    "components := model.Vectors(nil)"
   ]
  },
  {
   "cell_type": "code",
   "execution_count": 15,
   "metadata": {},
   "outputs": [
    {
     "name": "stdout",
     "output_type": "stream",
     "text": [
      "Component 1: 0.730\n",
      "Component 2: 0.229\n",
      "Component 3: 0.037\n",
      "Component 4: 0.005\n"
     ]
    }
   ],
   "source": [
    "// Print the amount of variance explained by each component\n",
    "total_variance := 0.0\n",
    "for i := range variances {\n",
    "    total_variance += variances[i]\n",
    "}\n",
    "\n",
    "for i := range variances {\n",
    "    fmt.Printf(\"Component %d: %5.3f\\n\", i + 1, variances[i] / total_variance)\n",
    "}"
   ]
  },
  {
   "cell_type": "code",
   "execution_count": 16,
   "metadata": {},
   "outputs": [],
   "source": [
    "// Transform the data into the new space\n",
    "transform := mat64.NewDense(df.Nrow(), 4, nil)\n",
    "transform.Mul(features, components)"
   ]
  },
  {
   "cell_type": "code",
   "execution_count": 17,
   "metadata": {},
   "outputs": [],
   "source": [
    "//  PCA keeps top 2 components (one for x axis, one for y) and returns this as map from label to XYs\n",
    "//  Matrix must have at least 2 columns or this will panic\n",
    "func PCAToScatterData(m mat64.Matrix, labels []float64) map[int]plotter.XYs {\n",
    "    ret := make(map[int]plotter.XYs)\n",
    "    nrows, _ := m.Dims()\n",
    "    for i := 0; i < nrows; i++ {\n",
    "        var pt struct{X, Y float64}\n",
    "        pt.X = m.At(i, 0)\n",
    "        pt.Y = m.At(i, 1)\n",
    "        ret[int(labels[i])] = append(ret[int(labels[i])], pt)\n",
    "    }\n",
    "    return ret\n",
    "} "
   ]
  },
  {
   "cell_type": "code",
   "execution_count": 18,
   "metadata": {},
   "outputs": [],
   "source": [
    "/**\n",
    "    NB. This is required because gophernotes comes with an old version of goml. When it gets updated we can remove most of this.\n",
    "*/\n",
    "\n",
    "type LegacyXYs plotter.XYs\n",
    "\n",
    "func (xys LegacyXYs) Len() int {\n",
    "    return len(xys)\n",
    "}\n",
    "\n",
    "func (xys LegacyXYs) XY(i int) (float64, float64) {\n",
    "    return xys[i].X, xys[i].Y\n",
    "}"
   ]
  },
  {
   "cell_type": "code",
   "execution_count": 19,
   "metadata": {},
   "outputs": [],
   "source": [
    "scatterData := PCAToScatterData(transform, labels)"
   ]
  },
  {
   "cell_type": "code",
   "execution_count": 20,
   "metadata": {},
   "outputs": [],
   "source": [
    "func PlotPCAData(labelsToXYs map[int]plotter.XYs, xLabel, yLabel string) ([]uint8, error) {\n",
    "    p, err := plot.New()\n",
    "    if err != nil {\n",
    "        return nil, err\n",
    "    }\n",
    "    p.Title.Text = \"Iris Dataset PCA Example\"\n",
    "    //p.X.Min = 4\n",
    "    //p.X.Max = 9\n",
    "    p.X.Padding = 0\n",
    "    p.X.Label.Text = xLabel\n",
    "    //p.Y.Min = 1.5\n",
    "    //p.Y.Max = 4.5\n",
    "    p.Y.Padding = 0\n",
    "    p.Y.Label.Text = yLabel\n",
    "    for i := range labelsToXYs {\n",
    "        s, err := plotter.NewScatter(LegacyXYs(labelsToXYs[i])) //Remove LegacyXYs when gophernotes updated to use latest goml\n",
    "        s.Color = plotutil.Color(i)\n",
    "        s.Shape = plotutil.Shape(i)\n",
    "        p.Add(s)\n",
    "        n := strconv.Itoa(i)\n",
    "        p.Legend.Add(n)\n",
    "        if err != nil {\n",
    "            return nil, err\n",
    "        }\n",
    "    }\n",
    "    w, err := p.WriterTo(5*vg.Inch, 4*vg.Inch, \"jpg\")\n",
    "    if err != nil{\n",
    "        return nil, err\n",
    "    }\n",
    "    if err := p.Save(5*vg.Inch, 4*vg.Inch, \"PCA Scatter.jpg\"); err != nil {\n",
    "        return nil, err\n",
    "    }\n",
    "    var b bytes.Buffer\n",
    "    writer := bufio.NewWriter(&b)\n",
    "    w.WriteTo(writer)\n",
    "    return b.Bytes(), nil\n",
    "}"
   ]
  },
  {
   "cell_type": "code",
   "execution_count": 21,
   "metadata": {},
   "outputs": [
    {
     "data": {
      "image/jpeg": "[encoded data removed]",
      "text/plain": [
       "image/jpeg"
      ]
     },
     "execution_count": 21,
     "metadata": {},
     "output_type": "execute_result"
    }
   ],
   "source": [
    "b, _ := PlotPCAData(scatterData, \"Component 1\", \"Component 2\")\n",
    "display.JPEG(b)"
   ]
  }
 ],
 "metadata": {
  "kernelspec": {
   "display_name": "Go",
   "language": "go",
   "name": "gophernotes"
  },
  "language_info": {
   "codemirror_mode": "",
   "file_extension": ".go",
   "mimetype": "",
   "name": "go",
   "nbconvert_exporter": "",
   "pygments_lexer": "",
   "version": "go1.11.4"
  }
 },
 "nbformat": 4,
 "nbformat_minor": 2
}
