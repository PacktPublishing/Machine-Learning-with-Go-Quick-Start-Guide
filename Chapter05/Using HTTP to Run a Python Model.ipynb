{
 "cells": [
  {
   "cell_type": "code",
   "execution_count": 1,
   "metadata": {},
   "outputs": [],
   "source": [
    "import (\n",
    "    \"fmt\"\n",
    "     mnist \"github.com/petar/GoMNIST\"\n",
    "    \"github.com/kniren/gota/dataframe\"\n",
    "    \"github.com/kniren/gota/series\"\n",
    "    \"image\"\n",
    "    \"bytes\"\n",
    "    \"math\"\n",
    ")"
   ]
  },
  {
   "cell_type": "code",
   "execution_count": 2,
   "metadata": {},
   "outputs": [],
   "source": [
    "set, err := mnist.ReadSet(\"../datasets/mnist/images.gz\", \"../datasets/mnist/labels.gz\")"
   ]
  },
  {
   "cell_type": "code",
   "execution_count": 3,
   "metadata": {},
   "outputs": [
    {
     "data": {
      "image/png": "[encoded data removed]"
     },
     "execution_count": 3,
     "metadata": {
      "image/png": {
       "height": 28,
       "width": 28
      }
     },
     "output_type": "execute_result"
    }
   ],
   "source": [
    "set.Images[1]"
   ]
  },
  {
   "cell_type": "code",
   "execution_count": 4,
   "metadata": {},
   "outputs": [],
   "source": [
    "func MNISTSetToDataframe(st *mnist.Set, maxExamples int) dataframe.DataFrame {\n",
    "    length := maxExamples\n",
    "    if length > len(st.Images) {\n",
    "        length = len(st.Images)\n",
    "    }\n",
    "    s := make([]string, length, length)\n",
    "    l := make([]int, length, length)\n",
    "    for i := 0; i < length; i++ {\n",
    "        s[i] = string(st.Images[i])\n",
    "        l[i] = int(st.Labels[i])\n",
    "    }\n",
    "    var df dataframe.DataFrame\n",
    "    images := series.Strings(s)\n",
    "    images.Name = \"Image\"\n",
    "    labels := series.Ints(l)\n",
    "    labels.Name = \"Label\"\n",
    "    df = dataframe.New(images, labels)\n",
    "    return df\n",
    "}"
   ]
  },
  {
   "cell_type": "code",
   "execution_count": 5,
   "metadata": {},
   "outputs": [],
   "source": [
    "df := MNISTSetToDataframe(set, 1000)"
   ]
  },
  {
   "cell_type": "code",
   "execution_count": 6,
   "metadata": {},
   "outputs": [],
   "source": [
    "categories := []string{\"tshirt\", \"trouser\", \"pullover\", \"dress\", \"coat\", \"sandal\", \"shirt\", \"shoe\", \"bag\", \"boot\"}"
   ]
  },
  {
   "cell_type": "code",
   "execution_count": 7,
   "metadata": {},
   "outputs": [],
   "source": [
    "func NormalizeBytes(bs []byte) []int {\n",
    "    ret := make([]int, len(bs), len(bs))\n",
    "    for i := range bs {\n",
    "        ret[i] = int(bs[i])\n",
    "    }\n",
    "    return ret\n",
    "}\n",
    "func ImageSeriesToInts(df dataframe.DataFrame, col string) [][]int {\n",
    "    s := df.Col(col)\n",
    "    ret := make([][]int, s.Len(), s.Len())\n",
    "    for i := 0; i < s.Len(); i++ {\n",
    "        b := []byte(s.Elem(i).String())\n",
    "        ret[i] = NormalizeBytes(b)\n",
    "    }\n",
    "    return ret\n",
    "}"
   ]
  },
  {
   "cell_type": "code",
   "execution_count": 8,
   "metadata": {},
   "outputs": [],
   "source": [
    "testImages := ImageSeriesToInts(df, \"Image\")"
   ]
  },
  {
   "cell_type": "markdown",
   "metadata": {},
   "source": [
    "## Invoke the model using JSON-RPC"
   ]
  },
  {
   "cell_type": "code",
   "execution_count": 33,
   "metadata": {},
   "outputs": [],
   "source": [
    "import (\n",
    "\t\"fmt\"\n",
    "\t\"log\"\n",
    "\t\"math/rand\"\n",
    "\t\"net/http\"\n",
    "\t\"os\"\n",
    "\t\"os/exec\"\n",
    "\t\"strconv\"\n",
    "\t\"time\"\n",
    "    \"io/ioutil\"\n",
    "    \"encoding/json\"\n",
    "    \"bytes\"\n",
    ")"
   ]
  },
  {
   "cell_type": "code",
   "execution_count": 25,
   "metadata": {},
   "outputs": [],
   "source": [
    "c, err := jsonrpc.Dial(\"tcp\", \"localhost:8001\")\n",
    "p := model{Client: client}\n",
    "var req PredictRequest = PredictRequest{\n",
    "        Image: testImages[16],\n",
    "}\n",
    "\n",
    "var reply interface{}\n",
    "err := c.Call(\"predict\", req, &reply)"
   ]
  },
  {
   "cell_type": "code",
   "execution_count": 57,
   "metadata": {},
   "outputs": [],
   "source": [
    "//  Predict returns whether the ith image represents trousers or not based on the logistic regression model\n",
    "func Predict(i int) (bool, error){\n",
    "    b, err := json.Marshal(testImages[i])\n",
    "    if err != nil {\n",
    "        return false, err\n",
    "    }\n",
    "    r := bytes.NewReader(b)\n",
    "    resp, err := http.Post(\"http://127.0.0.1:8001\", \"application/json\", r)\n",
    "    if err != nil {\n",
    "        return false, err\n",
    "    }\n",
    "    body, err := ioutil.ReadAll(resp.Body)\n",
    "    if err != nil {\n",
    "        return false, err\n",
    "    }\n",
    "    resp.Body.Close()\n",
    "    var resp struct {\n",
    "        IsTrousers bool `json:\"is_trousers\"`\n",
    "    }\n",
    "    err := json.Unmarshal(body, &resp)\n",
    "    return resp.IsTrousers, err    \n",
    "}\n"
   ]
  },
  {
   "cell_type": "code",
   "execution_count": 60,
   "metadata": {},
   "outputs": [
    {
     "data": {
      "text/plain": [
       "true <nil>"
      ]
     },
     "execution_count": 60,
     "metadata": {},
     "output_type": "execute_result"
    }
   ],
   "source": [
    "// Expected: true <nil>\n",
    "Predict(16)"
   ]
  },
  {
   "cell_type": "code",
   "execution_count": 61,
   "metadata": {},
   "outputs": [
    {
     "data": {
      "text/plain": [
       "false <nil>"
      ]
     },
     "execution_count": 61,
     "metadata": {},
     "output_type": "execute_result"
    }
   ],
   "source": [
    "// Expected false <nil>\n",
    "Predict(0)"
   ]
  },
  {
   "cell_type": "code",
   "execution_count": null,
   "metadata": {},
   "outputs": [],
   "source": []
  }
 ],
 "metadata": {
  "kernelspec": {
   "display_name": "Go",
   "language": "go",
   "name": "gophernotes"
  },
  "language_info": {
   "codemirror_mode": "",
   "file_extension": ".go",
   "mimetype": "",
   "name": "go",
   "nbconvert_exporter": "",
   "pygments_lexer": "",
   "version": "go1.11.4"
  }
 },
 "nbformat": 4,
 "nbformat_minor": 2
}
