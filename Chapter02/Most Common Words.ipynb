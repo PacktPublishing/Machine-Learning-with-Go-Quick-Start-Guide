{
 "cells": [
  {
   "cell_type": "markdown",
   "metadata": {},
   "source": [
    "#"
   ]
  },
  {
   "cell_type": "code",
   "execution_count": 1,
   "metadata": {},
   "outputs": [],
   "source": [
    "import (\n",
    "    \"fmt\"\n",
    "    \"io/ioutil\"\n",
    "    \"github.com/kniren/gota/dataframe\"\n",
    "    \"github.com/kniren/gota/series\"\n",
    "    \"strings\"\n",
    "    \"strconv\"\n",
    ")"
   ]
  },
  {
   "cell_type": "code",
   "execution_count": 58,
   "metadata": {},
   "outputs": [],
   "source": [
    "var kitchenReviews = \"../datasets/words/processed_acl/kitchen\""
   ]
  },
  {
   "cell_type": "markdown",
   "metadata": {},
   "source": [
    "Load the data"
   ]
  },
  {
   "cell_type": "code",
   "execution_count": 59,
   "metadata": {},
   "outputs": [],
   "source": [
    "positives, err := ioutil.ReadFile(kitchenReviews + \"/positive.review\")\n",
    "negatives, err2 := ioutil.ReadFile(kitchenReviews + \"/negative.review\")\n",
    "if err != nil || err2 != nil {\n",
    "    fmt.Println(\"Error(s)\", err, err2)\n",
    "}"
   ]
  },
  {
   "cell_type": "markdown",
   "metadata": {},
   "source": [
    "The data consists of word(s):frequency pairs separated by spaces:"
   ]
  },
  {
   "cell_type": "code",
   "execution_count": 60,
   "metadata": {},
   "outputs": [
    {
     "data": {
      "text/plain": [
       "them_it:1 hovering:1 and_occasional:1 cousin_the:2 fictional_baudelaire:1 their_struggles:1 unfortun"
      ]
     },
     "execution_count": 60,
     "metadata": {},
     "output_type": "execute_result"
    }
   ],
   "source": [
    "string(positives)[0:100]"
   ]
  },
  {
   "cell_type": "markdown",
   "metadata": {},
   "source": [
    "Create a struct to hold the word/frequency pair and use gota's LoadStructs() to convert this to a dataframe"
   ]
  },
  {
   "cell_type": "code",
   "execution_count": 61,
   "metadata": {},
   "outputs": [],
   "source": [
    "pairsPositive := strings.Split(strings.Replace(string(positives), \"\\n\", \" \", -1), \" \")\n",
    "pairsNegative := strings.Split(strings.Replace(string(negatives), \"\\n\", \" \", -1), \" \")"
   ]
  },
  {
   "cell_type": "code",
   "execution_count": 62,
   "metadata": {},
   "outputs": [
    {
     "name": "stdout",
     "output_type": "stream",
     "text": [
      "Positive pairs 132222\n",
      "Negative Pairs 132222\n",
      "Example pair: `them_it:1`"
     ]
    },
    {
     "data": {
      "text/plain": [
       "25 <nil>"
      ]
     },
     "execution_count": 62,
     "metadata": {},
     "output_type": "execute_result"
    }
   ],
   "source": [
    "fmt.Println(\"Positive pairs\", len(pairsPositive))\n",
    "fmt.Println(\"Negative Pairs\", len(pairsPositive))\n",
    "fmt.Printf(\"Example pair: `%s`\", pairsPositive[0])"
   ]
  },
  {
   "cell_type": "code",
   "execution_count": 63,
   "metadata": {},
   "outputs": [],
   "source": [
    "type Pair struct {\n",
    "    Phrase string \n",
    "    Frequency int\n",
    "}\n",
    "\n",
    "//  pairsAndFiltesr returns a slice of Pair, split by : to obtain the phrase and frequency,\n",
    "//  as well as a map of the phrases that can be used as a lookup table later.\n",
    "func pairsAndFilters(splitPairs []string) ([]Pair, map[string]bool) {\n",
    "    var (\n",
    "        pairs []Pair\n",
    "        m map[string]bool\n",
    "    )\n",
    "    m = make(map[string]bool)\n",
    "    for _, pair := range splitPairs {\n",
    "        p := strings.Split(pair, \":\")\n",
    "        phrase := p[0]\n",
    "        m[phrase] = true\n",
    "        if len(p) < 2 {\n",
    "            continue\n",
    "        }\n",
    "        freq, err := strconv.Atoi(p[1])\n",
    "        if err != nil {\n",
    "            continue\n",
    "        }\n",
    "        pairs = append(pairs, Pair{\n",
    "            Phrase: phrase,\n",
    "            Frequency: freq,\n",
    "        })\n",
    "      }\n",
    "    return pairs, m\n",
    "}\n",
    "\n",
    "//  exclude returns a slice of Pair that does not contain the phrases in the exclusion map\n",
    "func exclude(pairs []Pair, exclusions map[string]bool) []Pair{\n",
    "    var ret []Pair \n",
    "    for i := range pairs{\n",
    "        if !exclusions[pairs[i].Phrase]{\n",
    "            ret = append(ret, pairs[i])\n",
    "        }\n",
    "    }\n",
    "    return ret\n",
    "}\n"
   ]
  },
  {
   "cell_type": "code",
   "execution_count": 64,
   "metadata": {},
   "outputs": [],
   "source": [
    "parsedPositives, posPhrases := pairsAndFilters(pairsPositive)\n",
    "parsedNegatives, negPhrases := pairsAndFilters(pairsNegative)\n",
    "parsedPositives = exclude(parsedPositives, negPhrases)\n",
    "parsedNegatives = exclude(parsedNegatives, posPhrases)"
   ]
  },
  {
   "cell_type": "code",
   "execution_count": 65,
   "metadata": {},
   "outputs": [],
   "source": [
    "dfPos := dataframe.LoadStructs(parsedPositives)\n",
    "dfNeg := dataframe.LoadStructs(parsedNegatives)"
   ]
  },
  {
   "cell_type": "code",
   "execution_count": 66,
   "metadata": {},
   "outputs": [],
   "source": [
    "dfPos = dfPos.Arrange(dataframe.RevSort(\"Frequency\"))\n",
    "dfNeg = dfNeg.Arrange(dataframe.RevSort(\"Frequency\"))"
   ]
  },
  {
   "cell_type": "code",
   "execution_count": 67,
   "metadata": {},
   "outputs": [
    {
     "name": "stdout",
     "output_type": "stream",
     "text": [
      "[46383x2] DataFrame\n",
      "\n",
      "    Phrase       Frequency\n",
      " 0: tic-tac-toe  10       \n",
      " 1: wusthoff     7        \n",
      " 2: emperor      7        \n",
      " 3: shot_glasses 6        \n",
      " 4: pulp         6        \n",
      " 5: games        6        \n",
      " 6: sentry       6        \n",
      " 7: gravel       6        \n",
      " 8: the_emperor  5        \n",
      " 9: aebleskivers 5        \n",
      "    ...          ...      \n",
      "    <string>     <int>    \n",
      "\n"
     ]
    },
    {
     "data": {
      "text/plain": [
       "373 <nil>"
      ]
     },
     "execution_count": 67,
     "metadata": {},
     "output_type": "execute_result"
    }
   ],
   "source": [
    "//most common words in positive reviews\n",
    "fmt.Println(dfPos)"
   ]
  },
  {
   "cell_type": "code",
   "execution_count": 68,
   "metadata": {},
   "outputs": [
    {
     "name": "stdout",
     "output_type": "stream",
     "text": [
      "[45760x2] DataFrame\n",
      "\n",
      "    Phrase          Frequency\n",
      " 0: seeds           9        \n",
      " 1: perculator      7        \n",
      " 2: probes          7        \n",
      " 3: cork            7        \n",
      " 4: coffee_tank     5        \n",
      " 5: brookstone      5        \n",
      " 6: convection_oven 5        \n",
      " 7: black_goo       5        \n",
      " 8: waring_pro      5        \n",
      " 9: packs           5        \n",
      "    ...             ...      \n",
      "    <string>        <int>    \n",
      "\n"
     ]
    },
    {
     "data": {
      "text/plain": [
       "412 <nil>"
      ]
     },
     "execution_count": 68,
     "metadata": {},
     "output_type": "execute_result"
    }
   ],
   "source": [
    "// most common words in negative reviews\n",
    "fmt.Println(dfNeg)"
   ]
  }
 ],
 "metadata": {
  "kernelspec": {
   "display_name": "Go",
   "language": "go",
   "name": "gophernotes"
  },
  "language_info": {
   "codemirror_mode": "",
   "file_extension": ".go",
   "mimetype": "",
   "name": "go",
   "nbconvert_exporter": "",
   "pygments_lexer": "",
   "version": "go1.11.4"
  }
 },
 "nbformat": 4,
 "nbformat_minor": 2
}
