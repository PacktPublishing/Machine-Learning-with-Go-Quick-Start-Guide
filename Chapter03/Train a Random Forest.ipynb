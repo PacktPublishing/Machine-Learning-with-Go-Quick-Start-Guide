{
 "cells": [
  {
   "cell_type": "markdown",
   "metadata": {},
   "source": [
    "# Train a Random Forest\n",
    "\n",
    "In this example we will load California house price data to a gota dataframe and use a random forest to predict the median house price based on other variables such as the median income. "
   ]
  },
  {
   "cell_type": "code",
   "execution_count": 1,
   "metadata": {},
   "outputs": [],
   "source": [
    "import (\n",
    "    \"fmt\"\n",
    "    \"github.com/kniren/gota/dataframe\"\n",
    "    \"github.com/kniren/gota/series\"\n",
    "    \"math/rand\"\n",
    "    \"github.com/fxsjy/RF.go/RF/Regression\"\n",
    "    \"bytes\"\n",
    "    \"math\"\n",
    "    \"github.com/gonum/stat\"\n",
    "    \"github.com/gonum/integrate\"\n",
    "    \"io/ioutil\"\n",
    ")"
   ]
  },
  {
   "cell_type": "code",
   "execution_count": 2,
   "metadata": {},
   "outputs": [],
   "source": [
    "const path = \"../datasets/housing/CaliforniaHousing/cal_housing.data\""
   ]
  },
  {
   "cell_type": "code",
   "execution_count": 3,
   "metadata": {},
   "outputs": [],
   "source": [
    "columns := []string{\"longitude\", \"latitude\", \"housingMedianAge\", \"totalRooms\", \"totalBedrooms\", \"population\", \"households\", \"medianIncome\", \"medianHouseValue\"}\n",
    "b, err := ioutil.ReadFile(path)\n",
    "if err != nil {\n",
    "    fmt.Println(\"Error!\", err)\n",
    "}\n",
    "df := dataframe.ReadCSV(bytes.NewReader(b), dataframe.Names(columns...))"
   ]
  },
  {
   "cell_type": "code",
   "execution_count": 4,
   "metadata": {},
   "outputs": [
    {
     "data": {
      "text/plain": [
       "[20639x9] DataFrame\n",
       "\n",
       "    longitude   latitude  housingMedianAge totalRooms  totalBedrooms ...\n",
       " 0: -122.220000 37.860000 21.000000        7099.000000 1106.000000   ...\n",
       " 1: -122.240000 37.850000 52.000000        1467.000000 190.000000    ...\n",
       " 2: -122.250000 37.850000 52.000000        1274.000000 235.000000    ...\n",
       " 3: -122.250000 37.850000 52.000000        1627.000000 280.000000    ...\n",
       " 4: -122.250000 37.850000 52.000000        919.000000  213.000000    ...\n",
       " 5: -122.250000 37.840000 52.000000        2535.000000 489.000000    ...\n",
       " 6: -122.250000 37.840000 52.000000        3104.000000 687.000000    ...\n",
       " 7: -122.260000 37.840000 42.000000        2555.000000 665.000000    ...\n",
       " 8: -122.250000 37.840000 52.000000        3549.000000 707.000000    ...\n",
       " 9: -122.260000 37.850000 52.000000        2202.000000 434.000000    ...\n",
       "    ...         ...       ...              ...         ...           ...\n",
       "    <float>     <float>   <float>          <float>     <float>       ...\n",
       "\n",
       "Not Showing: population <float>, households <float>, medianIncome <float>,\n",
       "medianHouseValue <float>\n"
      ]
     },
     "execution_count": 4,
     "metadata": {},
     "output_type": "execute_result"
    }
   ],
   "source": [
    "df"
   ]
  },
  {
   "cell_type": "code",
   "execution_count": 5,
   "metadata": {},
   "outputs": [],
   "source": [
    "// Divide divides two series and returns a series with the given name. The series must have the same length.\n",
    "func Divide(s1 series.Series, s2 series.Series, name string) series.Series {\n",
    "    if s1.Len() != s2.Len() {\n",
    "        panic(\"Series must have the same length!\")\n",
    "    }\n",
    "    \n",
    "    ret := make([]interface{}, s1.Len(), s1.Len())\n",
    "    for i := 0; i < s1.Len(); i ++ {\n",
    "        ret[i] = s1.Elem(i).Float()/s2.Elem(i).Float()\n",
    "    }\n",
    "    s := series.Floats(ret)\n",
    "    s.Name = name\n",
    "    return s\n",
    "}\n",
    "\n",
    "//  MultiplyConst multiplies the series by a constant and returns another series with the same name.\n",
    "func MultiplyConst(s series.Series, f float64) series.Series {\n",
    "    ret := make([]interface{}, s.Len(), s.Len())\n",
    "    for i := 0; i < s.Len(); i ++ {\n",
    "        ret[i] = s.Elem(i).Float()*f\n",
    "    }\n",
    "    ss := series.Floats(ret)\n",
    "    ss.Name = s.Name\n",
    "    return ss\n",
    "}"
   ]
  },
  {
   "cell_type": "code",
   "execution_count": 6,
   "metadata": {},
   "outputs": [],
   "source": [
    "df = df.Mutate(Divide(df.Col(\"totalRooms\"), df.Col(\"households\"), \"averageRooms\"))\n",
    "df = df.Mutate(Divide(df.Col(\"totalBedrooms\"), df.Col(\"households\"), \"averageBedrooms\"))\n",
    "df = df.Mutate(Divide(df.Col(\"population\"), df.Col(\"households\"), \"averageOccupancy\"))\n",
    "df = df.Mutate(MultiplyConst(df.Col(\"medianHouseValue\"), 0.00001))\n",
    "df = df.Select([]string{\"medianIncome\", \"housingMedianAge\", \"averageRooms\", \"averageBedrooms\", \"population\", \"averageOccupancy\", \"latitude\", \"longitude\", \"medianHouseValue\" })"
   ]
  },
  {
   "cell_type": "code",
   "execution_count": 7,
   "metadata": {},
   "outputs": [
    {
     "data": {
      "text/plain": [
       "[20639x9] DataFrame\n",
       "\n",
       "    medianIncome housingMedianAge averageRooms averageBedrooms population  ...\n",
       " 0: 8.301400     21.000000        6.238137     0.971880        2401.000000 ...\n",
       " 1: 7.257400     52.000000        8.288136     1.073446        496.000000  ...\n",
       " 2: 5.643100     52.000000        5.817352     1.073059        558.000000  ...\n",
       " 3: 3.846200     52.000000        6.281853     1.081081        565.000000  ...\n",
       " 4: 4.036800     52.000000        4.761658     1.103627        413.000000  ...\n",
       " 5: 3.659100     52.000000        4.931907     0.951362        1094.000000 ...\n",
       " 6: 3.120000     52.000000        4.797527     1.061824        1157.000000 ...\n",
       " 7: 2.080400     42.000000        4.294118     1.117647        1206.000000 ...\n",
       " 8: 3.691200     52.000000        4.970588     0.990196        1551.000000 ...\n",
       " 9: 3.203100     52.000000        5.477612     1.079602        910.000000  ...\n",
       "    ...          ...              ...          ...             ...         ...\n",
       "    <float>      <float>          <float>      <float>         <float>     ...\n",
       "\n",
       "Not Showing: averageOccupancy <float>, latitude <float>, longitude <float>,\n",
       "medianHouseValue <float>\n"
      ]
     },
     "execution_count": 7,
     "metadata": {},
     "output_type": "execute_result"
    }
   ],
   "source": [
    "df"
   ]
  },
  {
   "cell_type": "code",
   "execution_count": 8,
   "metadata": {},
   "outputs": [],
   "source": [
    "func Split(df dataframe.DataFrame, valFraction float64) (training dataframe.DataFrame, validation dataframe.DataFrame){\n",
    "    perm := rand.Perm(df.Nrow())\n",
    "    cutoff := int(valFraction*float64(len(perm)))\n",
    "    training = df.Subset(perm[:cutoff])\n",
    "    validation = df.Subset(perm[cutoff:])\n",
    "    return training, validation\n",
    "}"
   ]
  },
  {
   "cell_type": "code",
   "execution_count": 9,
   "metadata": {},
   "outputs": [],
   "source": [
    "training, validation := Split(df, 0.75)"
   ]
  },
  {
   "cell_type": "code",
   "execution_count": 10,
   "metadata": {},
   "outputs": [],
   "source": [
    "//  DataFrameToXYs converts a dataframe with float64 columns to a slice of independent variable columns as floats\n",
    "//  and the dependent variable (yCol). This can then be used with eg. goml's linear ML algorithms.\n",
    "//  yCol is optional - if it doesn't exist only the x (independent) variables will be returned.\n",
    "func DataFrameToXYs(df dataframe.DataFrame, yCol string) ([][]float64, []float64){\n",
    "    var (\n",
    "        x [][]float64\n",
    "        y []float64\n",
    "        yColIx = -1\n",
    "    )\n",
    "    \n",
    "    //find dependent variable column index\n",
    "    for i, col := range df.Names() {\n",
    "        if col == yCol {\n",
    "            yColIx = i\n",
    "            break\n",
    "        }\n",
    "    }\n",
    "    if yColIx == -1 {\n",
    "        fmt.Println(\"Warning - no dependent variable\")\n",
    "    }\n",
    "    x = make([][]float64, df.Nrow(), df.Nrow())   \n",
    "    y = make([]float64, df.Nrow())\n",
    "    for i := 0; i < df.Nrow(); i++ {\n",
    "        var xx []float64\n",
    "        for j := 0; j < df.Ncol(); j ++ {\n",
    "            if j == yColIx {\n",
    "                y[i] = df.Elem(i, j).Float()\n",
    "                continue\n",
    "            }\n",
    "            xx = append(xx, df.Elem(i,j).Float())\n",
    "        }\n",
    "        x[i] = xx        \n",
    "    }\n",
    "    return x, y\n",
    "}"
   ]
  },
  {
   "cell_type": "code",
   "execution_count": 11,
   "metadata": {},
   "outputs": [],
   "source": [
    "func FloatsToInterfaces(f []float64) []interface{} {\n",
    "    iif := make([]interface{}, len(f), len(f))\n",
    "    for i := range f {\n",
    "        iif[i] = f[i]\n",
    "    }\n",
    "    return iif\n",
    "}"
   ]
  },
  {
   "cell_type": "code",
   "execution_count": 12,
   "metadata": {},
   "outputs": [],
   "source": [
    "tx, trainingY := DataFrameToXYs(training, \"medianHouseValue\")\n",
    "vx, validationY := DataFrameToXYs(validation, \"medianHouseValue\")\n",
    "\n",
    "var (\n",
    "    trainingX = make([][]interface{}, len(tx), len(tx))\n",
    "    validationX = make([][]interface{}, len(vx), len(vx))\n",
    ")\n",
    "\n",
    "for i := range tx {\n",
    "    trainingX[i] = FloatsToInterfaces(tx[i])\n",
    "}\n",
    "for i := range vx {\n",
    "    validationX[i] = FloatsToInterfaces(vx[i])\n",
    "}"
   ]
  },
  {
   "cell_type": "markdown",
   "metadata": {},
   "source": [
    "## Random Forest Regression for Median House Price"
   ]
  },
  {
   "cell_type": "code",
   "execution_count": 13,
   "metadata": {},
   "outputs": [
    {
     "name": "stdout",
     "output_type": "stream",
     "text": [
      ">> 2019-03-28 14:22:36.7404696 +0000 UTC m=+2.826843301 buiding 24th tree...\n",
      ">> 2019-03-28 14:22:36.7503545 +0000 UTC m=+2.836728201 buiding 10th tree...\n",
      ">> 2019-03-28 14:22:36.751142 +0000 UTC m=+2.837515501 buiding 11th tree...\n",
      ">> 2019-03-28 14:22:36.7619805 +0000 UTC m=+2.848354701 buiding 0th tree...\n",
      ">> 2019-03-28 14:22:36.7627932 +0000 UTC m=+2.849166601 buiding 13th tree...\n",
      ">> 2019-03-28 14:22:36.7629636 +0000 UTC m=+2.849336801 buiding 15th tree...\n",
      ">> 2019-03-28 14:22:36.7636428 +0000 UTC m=+2.850016501 buiding 1th tree...\n",
      ">> 2019-03-28 14:22:36.7642266 +0000 UTC m=+2.850603901 buiding 2th tree...\n",
      ">> 2019-03-28 14:22:36.7779664 +0000 UTC m=+2.864340701 buiding 3th tree...\n",
      ">> 2019-03-28 14:22:36.7888561 +0000 UTC m=+2.875229801 buiding 16th tree...\n",
      ">> 2019-03-28 14:22:36.7991267 +0000 UTC m=+2.885500401 buiding 4th tree...\n",
      ">> 2019-03-28 14:22:36.8002891 +0000 UTC m=+2.886662201 buiding 5th tree...\n",
      ">> 2019-03-28 14:22:36.8037908 +0000 UTC m=+2.890163901 buiding 6th tree...\n",
      ">> 2019-03-28 14:22:36.8071287 +0000 UTC m=+2.893501201 buiding 7th tree...\n",
      ">> 2019-03-28 14:22:36.8085332 +0000 UTC m=+2.894905701 buiding 8th tree...\n",
      ">> 2019-03-28 14:22:36.8113502 +0000 UTC m=+2.897723301 buiding 17th tree...\n",
      ">> 2019-03-28 14:22:36.8123859 +0000 UTC m=+2.898758901 buiding 9th tree...\n",
      ">> 2019-03-28 14:22:36.8130964 +0000 UTC m=+2.899469801 buiding 18th tree...\n",
      ">> 2019-03-28 14:22:36.8135007 +0000 UTC m=+2.899873801 buiding 19th tree...\n",
      ">> 2019-03-28 14:22:36.8141428 +0000 UTC m=+2.900515901 buiding 20th tree...\n",
      ">> 2019-03-28 14:22:36.8145103 +0000 UTC m=+2.900883801 buiding 21th tree...\n",
      ">> 2019-03-28 14:22:36.8148672 +0000 UTC m=+2.901240301 buiding 22th tree...\n",
      ">> 2019-03-28 14:22:36.8151736 +0000 UTC m=+2.901546101 buiding 23th tree...\n",
      ">> 2019-03-28 14:22:36.7629129 +0000 UTC m=+2.849285901 buiding 14th tree...\n",
      ">> 2019-03-28 14:22:36.7627516 +0000 UTC m=+2.849125001 buiding 12th tree...\n",
      "2019-03-28 14:24:30.9391264 +0000 UTC m=+117.168148201 tranning progress 4%\n",
      "2019-03-28 14:24:30.9411954 +0000 UTC m=+117.170218001 tranning progress 8%\n",
      "2019-03-28 14:25:48.9207423 +0000 UTC m=+195.256984401 tranning progress 12%\n",
      "2019-03-28 14:25:49.155797 +0000 UTC m=+195.492035501 tranning progress 16%\n",
      "2019-03-28 14:26:00.72691 +0000 UTC m=+207.063147201 tranning progress 20%\n",
      "2019-03-28 14:26:03.6705441 +0000 UTC m=+210.006778601 tranning progress 24%\n",
      "2019-03-28 14:26:05.8480766 +0000 UTC m=+212.184316801 tranning progress 28%\n",
      "2019-03-28 14:26:06.7271483 +0000 UTC m=+213.063383801 tranning progress 32%\n",
      "2019-03-28 14:26:07.4139438 +0000 UTC m=+213.750181201 tranning progress 36%\n",
      "2019-03-28 14:26:19.5352162 +0000 UTC m=+225.906911701 tranning progress 40%\n",
      "2019-03-28 14:26:27.3380032 +0000 UTC m=+233.709697401 tranning progress 44%\n",
      "2019-03-28 14:26:38.2135588 +0000 UTC m=+244.585253601 tranning progress 48%\n",
      "2019-03-28 14:26:40.2513229 +0000 UTC m=+246.623018401 tranning progress 52%\n",
      "2019-03-28 14:26:45.1981762 +0000 UTC m=+251.605583201 tranning progress 56%\n",
      "2019-03-28 14:26:48.4072404 +0000 UTC m=+254.814649801 tranning progress 60%\n",
      "2019-03-28 14:26:50.039184 +0000 UTC m=+256.446592001 tranning progress 64%\n",
      "2019-03-28 14:26:50.3687841 +0000 UTC m=+256.776193301 tranning progress 68%\n",
      "2019-03-28 14:27:07.6486591 +0000 UTC m=+274.056068101 tranning progress 72%\n",
      "2019-03-28 14:27:08.9237193 +0000 UTC m=+275.331126101 tranning progress 76%\n",
      "2019-03-28 14:27:11.3675923 +0000 UTC m=+277.775000101 tranning progress 80%\n",
      "2019-03-28 14:27:15.8133047 +0000 UTC m=+282.256330401 tranning progress 84%\n",
      "2019-03-28 14:27:16.5408996 +0000 UTC m=+282.983928001 tranning progress 88%\n",
      "2019-03-28 14:27:17.9679703 +0000 UTC m=+284.410997901 tranning progress 92%\n",
      "2019-03-28 14:27:21.792748 +0000 UTC m=+288.235776501 tranning progress 96%\n",
      "2019-03-28 14:27:23.9331517 +0000 UTC m=+290.376180101 tranning progress 100%\n",
      "all done.\n"
     ]
    }
   ],
   "source": [
    "model := Regression.BuildForest(trainingX, trainingY, 25, len(trainingX), 1)"
   ]
  },
  {
   "cell_type": "markdown",
   "metadata": {},
   "source": [
    "## Calculate the Mean Square Error"
   ]
  },
  {
   "cell_type": "code",
   "execution_count": 14,
   "metadata": {},
   "outputs": [
    {
     "name": "stdout",
     "output_type": "stream",
     "text": [
      "// warning: expression returns 2 values, using only the first one: [int error]\n",
      "MSE:  0.29\n"
     ]
    },
    {
     "data": {
      "text/plain": [
       "11 <nil>"
      ]
     },
     "execution_count": 14,
     "metadata": {},
     "output_type": "execute_result"
    }
   ],
   "source": [
    "//On validation set\n",
    "errors := make([]float64, len(validationX), len(validationX))\n",
    "for i := range validationX {\n",
    "    prediction := model.Predicate(validationX[i])\n",
    "    if err != nil {\n",
    "        panic(fmt.Println(\"Prediction error\", err))\n",
    "    }\n",
    "    errors[i] = (prediction - validationY[i])*(prediction - validationY[i])\n",
    "}\n",
    "\n",
    "fmt.Printf(\"MSE: %5.2f\\n\", stat.Mean(errors, nil))"
   ]
  },
  {
   "cell_type": "code",
   "execution_count": 15,
   "metadata": {},
   "outputs": [
    {
     "name": "stdout",
     "output_type": "stream",
     "text": [
      "// warning: expression returns 2 values, using only the first one: [int error]\n",
      "MSE:  0.05\n"
     ]
    },
    {
     "data": {
      "text/plain": [
       "11 <nil>"
      ]
     },
     "execution_count": 15,
     "metadata": {},
     "output_type": "execute_result"
    }
   ],
   "source": [
    "// On training set\n",
    "errors := make([]float64, len(trainingX), len(trainingX))\n",
    "for i := range trainingX {\n",
    "    prediction := model.Predicate(trainingX[i])\n",
    "    if err != nil {\n",
    "        panic(fmt.Println(\"Prediction error\", err))\n",
    "    }\n",
    "    errors[i] = (prediction - trainingY[i])*(prediction - trainingY[i])\n",
    "}\n",
    "\n",
    "fmt.Printf(\"MSE: %5.2f\\n\", stat.Mean(errors, nil))"
   ]
  },
  {
   "cell_type": "code",
   "execution_count": null,
   "metadata": {},
   "outputs": [],
   "source": []
  }
 ],
 "metadata": {
  "kernelspec": {
   "display_name": "Go",
   "language": "go",
   "name": "gophernotes"
  },
  "language_info": {
   "codemirror_mode": "",
   "file_extension": ".go",
   "mimetype": "",
   "name": "go",
   "nbconvert_exporter": "",
   "pygments_lexer": "",
   "version": "go1.11.4"
  }
 },
 "nbformat": 4,
 "nbformat_minor": 2
}
