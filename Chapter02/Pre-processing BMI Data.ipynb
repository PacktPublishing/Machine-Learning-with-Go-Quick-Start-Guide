{
 "cells": [
  {
   "cell_type": "markdown",
   "metadata": {},
   "source": [
    "# Pre-processing BMI Data\n",
    "\n",
    "In this example, we will process height/weight data for MLB players using Gota, demonstrating how little code this takes. We will remove unnecessary columns, normalise columns, and convert data types in a few lines of code."
   ]
  },
  {
   "cell_type": "code",
   "execution_count": 3,
   "metadata": {},
   "outputs": [],
   "source": [
    "import (\n",
    "    \"fmt\"\n",
    "    \"github.com/kniren/gota/dataframe\"\n",
    "    \"github.com/kniren/gota/series\"\n",
    "    \"io/ioutil\"\n",
    "    \"bytes\"\n",
    "    \"math/rand\"\n",
    ")"
   ]
  },
  {
   "cell_type": "code",
   "execution_count": 4,
   "metadata": {},
   "outputs": [],
   "source": [
    "const path = \"../datasets/bmi/SOCR_Data_MLB_HeightsWeights.csv\""
   ]
  },
  {
   "cell_type": "code",
   "execution_count": 5,
   "metadata": {},
   "outputs": [],
   "source": [
    "b, err := ioutil.ReadFile(path)\n",
    "if err != nil {\n",
    "    fmt.Println(\"Error!\", err)\n",
    "}\n",
    "df := dataframe.ReadCSV(bytes.NewReader(b))"
   ]
  },
  {
   "cell_type": "code",
   "execution_count": 6,
   "metadata": {},
   "outputs": [
    {
     "data": {
      "text/plain": [
       "[1034x6] DataFrame\n",
       "\n",
       "    Name            Team     Position       Height(inches) Weight(pounds) ...\n",
       " 0: Adam_Donachie   BAL      Catcher        74             180            ...\n",
       " 1: Paul_Bako       BAL      Catcher        74             215            ...\n",
       " 2: Ramon_Hernandez BAL      Catcher        72             210            ...\n",
       " 3: Kevin_Millar    BAL      First_Baseman  72             210            ...\n",
       " 4: Chris_Gomez     BAL      First_Baseman  73             188            ...\n",
       " 5: Brian_Roberts   BAL      Second_Baseman 69             176            ...\n",
       " 6: Miguel_Tejada   BAL      Shortstop      69             209            ...\n",
       " 7: Melvin_Mora     BAL      Third_Baseman  71             200            ...\n",
       " 8: Aubrey_Huff     BAL      Third_Baseman  76             231            ...\n",
       " 9: Adam_Stern      BAL      Outfielder     71             180            ...\n",
       "    ...             ...      ...            ...            ...            ...\n",
       "    <string>        <string> <string>       <int>          <int>          ...\n",
       "\n",
       "Not Showing: Age <float>\n"
      ]
     },
     "execution_count": 6,
     "metadata": {},
     "output_type": "execute_result"
    }
   ],
   "source": [
    "df"
   ]
  },
  {
   "cell_type": "code",
   "execution_count": 7,
   "metadata": {},
   "outputs": [],
   "source": [
    "df = df.Select([]string{\"Position\", \"Height(inches)\", \"Weight(pounds)\", \"Age\"})\n",
    "df = df.Rename(\"Height\",\"Height(inches)\")\n",
    "df = df.Rename(\"Weight\",\"Weight(pounds)\")"
   ]
  },
  {
   "cell_type": "code",
   "execution_count": 8,
   "metadata": {},
   "outputs": [
    {
     "data": {
      "text/plain": [
       "[1034x4] DataFrame\n",
       "\n",
       "    Position       Height Weight Age      \n",
       " 0: Catcher        74     180    22.990000\n",
       " 1: Catcher        74     215    34.690000\n",
       " 2: Catcher        72     210    30.780000\n",
       " 3: First_Baseman  72     210    35.430000\n",
       " 4: First_Baseman  73     188    35.710000\n",
       " 5: Second_Baseman 69     176    29.390000\n",
       " 6: Shortstop      69     209    30.770000\n",
       " 7: Third_Baseman  71     200    35.070000\n",
       " 8: Third_Baseman  76     231    30.190000\n",
       " 9: Outfielder     71     180    27.050000\n",
       "    ...            ...    ...    ...      \n",
       "    <string>       <int>  <int>  <float>  \n"
      ]
     },
     "execution_count": 8,
     "metadata": {},
     "output_type": "execute_result"
    }
   ],
   "source": [
    "df"
   ]
  },
  {
   "cell_type": "code",
   "execution_count": 9,
   "metadata": {},
   "outputs": [
    {
     "ename": "ERROR",
     "evalue": "reflect.Value.Convert: value of type reflect.Value cannot be converted to type series.Type",
     "output_type": "error",
     "traceback": [
      "reflect.Value.Convert: value of type reflect.Value cannot be converted to type series.Type"
     ]
    }
   ],
   "source": [
    "df = df.Mutate(series.New(df.Col(\"Height\"), series.Float, \"Height\"))\n",
    "df = df.Mutate(series.New(df.Col(\"Weight\"), series.Float, \"Weight\"))"
   ]
  },
  {
   "cell_type": "code",
   "execution_count": 10,
   "metadata": {},
   "outputs": [
    {
     "ename": "ERROR",
     "evalue": "reflect.Value.Convert: value of type reflect.Value cannot be converted to type series.Comparator",
     "output_type": "error",
     "traceback": [
      "reflect.Value.Convert: value of type reflect.Value cannot be converted to type series.Comparator"
     ]
    }
   ],
   "source": [
    "df = df.Filter(dataframe.F{\"Weight\", \"<\", 260})"
   ]
  },
  {
   "cell_type": "code",
   "execution_count": 11,
   "metadata": {},
   "outputs": [
    {
     "data": {
      "text/plain": [
       "67"
      ]
     },
     "execution_count": 11,
     "metadata": {},
     "output_type": "execute_result"
    }
   ],
   "source": [
    "df.Col(\"Height\").Min()"
   ]
  },
  {
   "cell_type": "code",
   "execution_count": 12,
   "metadata": {},
   "outputs": [],
   "source": [
    "//  rescale maps the given column values onto the range [0,1]\n",
    "func rescale(df dataframe.DataFrame, col string) dataframe.DataFrame {\n",
    "    s := df.Col(col)\n",
    "    min := s.Min()\n",
    "    max := s.Max()\n",
    "    v := make([]float64, s.Len(), s.Len())\n",
    "    for i := 0; i < s.Len(); i++ {\n",
    "        v[i] = (s.Elem(i).Float()-min)/(max-min)\n",
    "    }\n",
    "    rs := series.Floats(v)\n",
    "    rs.Name = col\n",
    "    return df.Mutate(rs)\n",
    "}\n",
    "\n",
    "//  meanNormalise maps the given column values onto the range [-1,1] by subtracting mean and dividing by max - min\n",
    "func meanNormalise(df dataframe.DataFrame, col string) dataframe.DataFrame {\n",
    "    s := df.Col(col)\n",
    "    min := s.Min()\n",
    "    max := s.Max()\n",
    "    mean := s.Mean()\n",
    "    v := make([]float64, s.Len(), s.Len())\n",
    "    for i := 0; i < s.Len(); i++ {\n",
    "        v[i] = (s.Elem(i).Float()-mean)/(max-min)\n",
    "    }\n",
    "    rs := series.Floats(v)\n",
    "    rs.Name = col\n",
    "    return df.Mutate(rs)\n",
    "}\n",
    "\n",
    "//  meanNormalise maps the given column values onto the range [-1,1] by subtracting mean and dividing by max - min\n",
    "func standardise(df dataframe.DataFrame, col string) dataframe.DataFrame {\n",
    "    s := df.Col(col)\n",
    "    std := s.StdDev()\n",
    "    mean := s.Mean()\n",
    "    v := make([]float64, s.Len(), s.Len())\n",
    "    for i := 0; i < s.Len(); i++ {\n",
    "        v[i] = (s.Elem(i).Float()-mean)/std\n",
    "    }\n",
    "    rs := series.Floats(v)\n",
    "    rs.Name = col\n",
    "    return df.Mutate(rs)\n",
    "}"
   ]
  },
  {
   "cell_type": "code",
   "execution_count": 13,
   "metadata": {},
   "outputs": [],
   "source": [
    "df = rescale(df, \"Height\")\n",
    "df = rescale(df, \"Weight\")"
   ]
  },
  {
   "cell_type": "code",
   "execution_count": 14,
   "metadata": {},
   "outputs": [
    {
     "data": {
      "text/plain": [
       "[1034x4] DataFrame\n",
       "\n",
       "    Position       Height   Weight   Age      \n",
       " 0: Catcher        0.437500 0.214286 22.990000\n",
       " 1: Catcher        0.437500 0.464286 34.690000\n",
       " 2: Catcher        0.312500 0.428571 30.780000\n",
       " 3: First_Baseman  0.312500 0.428571 35.430000\n",
       " 4: First_Baseman  0.375000 0.271429 35.710000\n",
       " 5: Second_Baseman 0.125000 0.185714 29.390000\n",
       " 6: Shortstop      0.125000 0.421429 30.770000\n",
       " 7: Third_Baseman  0.250000 0.357143 35.070000\n",
       " 8: Third_Baseman  0.562500 0.578571 30.190000\n",
       " 9: Outfielder     0.250000 0.214286 27.050000\n",
       "    ...            ...      ...      ...      \n",
       "    <string>       <float>  <float>  <float>  \n"
      ]
     },
     "execution_count": 14,
     "metadata": {},
     "output_type": "execute_result"
    }
   ],
   "source": [
    "df"
   ]
  },
  {
   "cell_type": "code",
   "execution_count": 15,
   "metadata": {},
   "outputs": [],
   "source": [
    "perm := rand.Perm(df.Nrow())"
   ]
  },
  {
   "cell_type": "code",
   "execution_count": 16,
   "metadata": {},
   "outputs": [
    {
     "ename": "ERROR",
     "evalue": "untyped constant {float64 7/10} overflows <int>",
     "output_type": "error",
     "traceback": [
      "untyped constant {float64 7/10} overflows <int>"
     ]
    }
   ],
   "source": [
    "df.Subset(perm[0:0.7*len(perm)])"
   ]
  },
  {
   "cell_type": "code",
   "execution_count": 17,
   "metadata": {},
   "outputs": [
    {
     "data": {
      "text/plain": [
       "723"
      ]
     },
     "execution_count": 17,
     "metadata": {},
     "output_type": "execute_result"
    }
   ],
   "source": [
    "int(0.7*float64(len(perm)))"
   ]
  },
  {
   "cell_type": "code",
   "execution_count": 20,
   "metadata": {},
   "outputs": [],
   "source": [
    "//  split splits the dataframe into training and validation subsets. valFraction (0 <= valFraction <= 1) of the samples\n",
    "//  are reserved for validation and the rest are for training. \n",
    "func split(df dataframe.DataFrame, valFraction float64) (training dataframe.DataFrame, validation dataframe.DataFrame){\n",
    "    perm := rand.Perm(df.Nrow())\n",
    "    cutoff := int(valFraction*float64(len(perm)))\n",
    "    training = df.Subset(perm[:cutoff])\n",
    "    validation = df.Subset(perm[cutoff:len(perm)])\n",
    "    return training, validation\n",
    "}"
   ]
  },
  {
   "cell_type": "code",
   "execution_count": 21,
   "metadata": {},
   "outputs": [
    {
     "data": {
      "text/plain": [
       "[723x4] DataFrame\n",
       "\n",
       "    Position       Height   Weight   Age      \n",
       " 0: Third_Baseman  0.250000 0.500000 27.900000\n",
       " 1: Relief_Pitcher 0.375000 0.214286 26.560000\n",
       " 2: Relief_Pitcher 0.437500 0.428571 24.490000\n",
       " 3: Relief_Pitcher 0.250000 0.142857 26.430000\n",
       " 4: Outfielder     0.500000 0.428571 26.670000\n",
       " 5: Catcher        0.375000 0.357143 34.070000\n",
       " 6: Relief_Pitcher 0.375000 0.221429 29.040000\n",
       " 7: First_Baseman  0.500000 0.528571 28.450000\n",
       " 8: Catcher        0.375000 0.192857 30.420000\n",
       " 9: Relief_Pitcher 0.375000 0.392857 25.650000\n",
       "    ...            ...      ...      ...      \n",
       "    <string>       <float>  <float>  <float>  \n",
       " [311x4] DataFrame\n",
       "\n",
       "    Position         Height   Weight   Age      \n",
       " 0: Relief_Pitcher   0.562500 0.428571 25.890000\n",
       " 1: Outfielder       0.125000 0.214286 27.550000\n",
       " 2: First_Baseman    0.500000 0.500000 26.890000\n",
       " 3: Relief_Pitcher   0.625000 0.535714 29.710000\n",
       " 4: Starting_Pitcher 0.562500 0.450000 31.440000\n",
       " 5: Outfielder       0.250000 0.357143 24.770000\n",
       " 6: Relief_Pitcher   0.625000 0.500000 28.540000\n",
       " 7: Relief_Pitcher   0.562500 0.464286 33.900000\n",
       " 8: Relief_Pitcher   0.437500 0.285714 25.140000\n",
       " 9: Starting_Pitcher 0.437500 0.428571 24.340000\n",
       "    ...              ...      ...      ...      \n",
       "    <string>         <float>  <float>  <float>  \n"
      ]
     },
     "execution_count": 21,
     "metadata": {},
     "output_type": "execute_result"
    }
   ],
   "source": [
    "split(df, 0.7)"
   ]
  },
  {
   "cell_type": "code",
   "execution_count": 76,
   "metadata": {},
   "outputs": [
    {
     "data": {
      "text/plain": [
       "[Catcher Catcher Catcher First_Baseman First_Baseman Second_Baseman Shortstop Third_Baseman Third_Baseman Outfielder Outfielder Outfielder Outfielder Outfielder Outfielder Outfielder Designated_Hitter Starting_Pitcher Starting_Pitcher Starting_Pitcher Starting_Pitcher Starting_Pitcher Starting_Pitcher Starting_Pitcher Relief_Pitcher Relief_Pitcher Relief_Pitcher Relief_Pitcher Relief_Pitcher Relief_Pitcher Relief_Pitcher Relief_Pitcher Relief_Pitcher Relief_Pitcher Relief_Pitcher Catcher Catcher First_Baseman Second_Baseman Shortstop Shortstop Third_Baseman Third_Baseman Outfielder Outfielder Outfielder Outfielder Outfielder Outfielder Outfielder Outfielder Designated_Hitter Designated_Hitter Starting_Pitcher Starting_Pitcher Starting_Pitcher Starting_Pitcher Starting_Pitcher Starting_Pitcher Starting_Pitcher Relief_Pitcher Relief_Pitcher Relief_Pitcher Relief_Pitcher Relief_Pitcher Relief_Pitcher Relief_Pitcher Relief_Pitcher Catcher Catcher Catcher First_Baseman First_Baseman First_Baseman First_Baseman First_Baseman Shortstop Shortstop Third_Baseman Third_Baseman Outfielder Outfielder Outfielder Outfielder Outfielder Outfielder Outfielder Outfielder Starting_Pitcher Starting_Pitcher Starting_Pitcher Starting_Pitcher Starting_Pitcher Starting_Pitcher Starting_Pitcher Relief_Pitcher Relief_Pitcher Relief_Pitcher Relief_Pitcher Relief_Pitcher Relief_Pitcher Relief_Pitcher Relief_Pitcher Catcher Catcher Catcher First_Baseman Second_Baseman Shortstop Shortstop Third_Baseman Outfielder Outfielder Outfielder Outfielder Outfielder Outfielder Outfielder Designated_Hitter Starting_Pitcher Starting_Pitcher Starting_Pitcher Starting_Pitcher Starting_Pitcher Starting_Pitcher Starting_Pitcher Starting_Pitcher Starting_Pitcher Relief_Pitcher Relief_Pitcher Relief_Pitcher Relief_Pitcher Relief_Pitcher Relief_Pitcher Relief_Pitcher Relief_Pitcher Relief_Pitcher Relief_Pitcher Relief_Pitcher Catcher Catcher First_Baseman Second_Baseman Second_Baseman Second_Baseman Shortstop Third_Baseman Outfielder Outfielder Outfielder Outfielder Outfielder Outfielder Outfielder Outfielder Designated_Hitter Starting_Pitcher Starting_Pitcher Starting_Pitcher Starting_Pitcher Starting_Pitcher Relief_Pitcher Relief_Pitcher Relief_Pitcher Relief_Pitcher Relief_Pitcher Relief_Pitcher Relief_Pitcher Relief_Pitcher Relief_Pitcher Relief_Pitcher Relief_Pitcher Relief_Pitcher Relief_Pitcher Catcher Catcher Catcher First_Baseman First_Baseman Second_Baseman Second_Baseman Shortstop Shortstop Shortstop Third_Baseman Third_Baseman Outfielder Outfielder Outfielder Outfielder Outfielder Designated_Hitter Starting_Pitcher Starting_Pitcher Starting_Pitcher Starting_Pitcher Starting_Pitcher Starting_Pitcher Starting_Pitcher Starting_Pitcher Relief_Pitcher Relief_Pitcher Relief_Pitcher Relief_Pitcher Relief_Pitcher Relief_Pitcher Relief_Pitcher Relief_Pitcher Relief_Pitcher Relief_Pitcher Relief_Pitcher Catcher Catcher First_Baseman First_Baseman First_Baseman Second_Baseman Second_Baseman Shortstop Third_Baseman Outfielder Outfielder Outfielder Outfielder Outfielder Designated_Hitter Starting_Pitcher Starting_Pitcher Starting_Pitcher Starting_Pitcher Starting_Pitcher Starting_Pitcher Starting_Pitcher Relief_Pitcher Relief_Pitcher Relief_Pitcher Relief_Pitcher Relief_Pitcher Relief_Pitcher Relief_Pitcher Relief_Pitcher Relief_Pitcher Relief_Pitcher Catcher Catcher First_Baseman First_Baseman Second_Baseman Second_Baseman Second_Baseman Shortstop Shortstop Shortstop Third_Baseman Outfielder Outfielder Outfielder Outfielder Outfielder Outfielder Designated_Hitter Starting_Pitcher Starting_Pitcher Starting_Pitcher Starting_Pitcher Starting_Pitcher Starting_Pitcher Starting_Pitcher Relief_Pitcher Relief_Pitcher Relief_Pitcher Relief_Pitcher Relief_Pitcher Relief_Pitcher Relief_Pitcher Relief_Pitcher Relief_Pitcher Relief_Pitcher Relief_Pitcher Relief_Pitcher Catcher Catcher First_Baseman First_Baseman Second_Baseman Second_Baseman Shortstop Shortstop Third_Baseman Outfielder Outfielder Outfielder Outfielder Outfielder Outfielder Outfielder Starting_Pitcher Starting_Pitcher Starting_Pitcher Starting_Pitcher Starting_Pitcher Starting_Pitcher Starting_Pitcher Starting_Pitcher Relief_Pitcher Relief_Pitcher Relief_Pitcher Relief_Pitcher Relief_Pitcher Relief_Pitcher Relief_Pitcher Relief_Pitcher Relief_Pitcher Relief_Pitcher Catcher Catcher Catcher First_Baseman Second_Baseman Second_Baseman Shortstop Third_Baseman Outfielder Outfielder Outfielder Outfielder Outfielder Designated_Hitter Starting_Pitcher Starting_Pitcher Starting_Pitcher Starting_Pitcher Starting_Pitcher Starting_Pitcher Starting_Pitcher Starting_Pitcher Starting_Pitcher Relief_Pitcher Relief_Pitcher Relief_Pitcher Relief_Pitcher Relief_Pitcher Relief_Pitcher Relief_Pitcher Relief_Pitcher Relief_Pitcher Relief_Pitcher Catcher Catcher First_Baseman First_Baseman Second_Baseman Second_Baseman Second_Baseman Shortstop Shortstop Third_Baseman Outfielder Outfielder Outfielder Outfielder Outfielder Outfielder Designated_Hitter Starting_Pitcher Starting_Pitcher Starting_Pitcher Starting_Pitcher Starting_Pitcher Starting_Pitcher Starting_Pitcher Starting_Pitcher Starting_Pitcher Relief_Pitcher Relief_Pitcher Relief_Pitcher Relief_Pitcher Relief_Pitcher Relief_Pitcher Relief_Pitcher Relief_Pitcher Relief_Pitcher Catcher Catcher Catcher Catcher First_Baseman Second_Baseman Shortstop Shortstop Third_Baseman Outfielder Outfielder Outfielder Outfielder Outfielder Outfielder Designated_Hitter Starting_Pitcher Starting_Pitcher Starting_Pitcher Starting_Pitcher Starting_Pitcher Starting_Pitcher Starting_Pitcher Starting_Pitcher Relief_Pitcher Relief_Pitcher Relief_Pitcher Relief_Pitcher Relief_Pitcher Relief_Pitcher Relief_Pitcher Relief_Pitcher Relief_Pitcher Relief_Pitcher Relief_Pitcher Catcher Catcher First_Baseman Second_Baseman Second_Baseman Second_Baseman Shortstop Shortstop Third_Baseman Third_Baseman Outfielder Outfielder Outfielder Designated_Hitter Designated_Hitter Starting_Pitcher Starting_Pitcher Starting_Pitcher Starting_Pitcher Starting_Pitcher Starting_Pitcher Starting_Pitcher Relief_Pitcher Relief_Pitcher Relief_Pitcher Relief_Pitcher Relief_Pitcher Relief_Pitcher Relief_Pitcher Relief_Pitcher Relief_Pitcher Relief_Pitcher Relief_Pitcher Relief_Pitcher Catcher Catcher Catcher First_Baseman Second_Baseman Second_Baseman Second_Baseman Shortstop Third_Baseman Third_Baseman Third_Baseman Outfielder Outfielder Outfielder Outfielder Outfielder Designated_Hitter Designated_Hitter Starting_Pitcher Starting_Pitcher Starting_Pitcher Starting_Pitcher Starting_Pitcher Starting_Pitcher Starting_Pitcher Relief_Pitcher Relief_Pitcher Relief_Pitcher Relief_Pitcher Relief_Pitcher Relief_Pitcher Relief_Pitcher Relief_Pitcher Catcher Catcher First_Baseman Second_Baseman Second_Baseman Second_Baseman Shortstop Shortstop Third_Baseman Third_Baseman Outfielder Outfielder Outfielder Outfielder Outfielder Outfielder Outfielder Starting_Pitcher Starting_Pitcher Starting_Pitcher Starting_Pitcher Starting_Pitcher Starting_Pitcher Relief_Pitcher Relief_Pitcher Relief_Pitcher Relief_Pitcher Relief_Pitcher Relief_Pitcher Relief_Pitcher Relief_Pitcher Relief_Pitcher Relief_Pitcher Relief_Pitcher Relief_Pitcher Relief_Pitcher Relief_Pitcher Catcher Catcher Catcher First_Baseman First_Baseman Second_Baseman Shortstop Third_Baseman Third_Baseman Outfielder Outfielder Outfielder Outfielder Outfielder Outfielder Outfielder Outfielder Starting_Pitcher Starting_Pitcher Starting_Pitcher Starting_Pitcher Starting_Pitcher Starting_Pitcher Starting_Pitcher Starting_Pitcher Starting_Pitcher Starting_Pitcher Starting_Pitcher Relief_Pitcher Relief_Pitcher Relief_Pitcher Relief_Pitcher Relief_Pitcher Relief_Pitcher Relief_Pitcher Relief_Pitcher Catcher Catcher First_Baseman First_Baseman First_Baseman Second_Baseman Shortstop Shortstop Third_Baseman Outfielder Outfielder Outfielder Outfielder Outfielder Starting_Pitcher Starting_Pitcher Starting_Pitcher Starting_Pitcher Starting_Pitcher Starting_Pitcher Starting_Pitcher Relief_Pitcher Relief_Pitcher Relief_Pitcher Relief_Pitcher Relief_Pitcher Relief_Pitcher Relief_Pitcher Catcher Catcher First_Baseman Second_Baseman Shortstop Shortstop Third_Baseman Third_Baseman Outfielder Outfielder Outfielder Outfielder Outfielder Outfielder Outfielder Starting_Pitcher Starting_Pitcher Starting_Pitcher Starting_Pitcher Starting_Pitcher Relief_Pitcher Relief_Pitcher Relief_Pitcher Relief_Pitcher Relief_Pitcher Relief_Pitcher Relief_Pitcher Relief_Pitcher Relief_Pitcher Relief_Pitcher Relief_Pitcher Relief_Pitcher Catcher Catcher Catcher First_Baseman First_Baseman Second_Baseman Shortstop Shortstop Third_Baseman Third_Baseman Third_Baseman Outfielder Outfielder Outfielder Outfielder Outfielder Outfielder Outfielder Outfielder Starting_Pitcher Starting_Pitcher Starting_Pitcher Starting_Pitcher Starting_Pitcher Starting_Pitcher Relief_Pitcher Relief_Pitcher Relief_Pitcher Relief_Pitcher Relief_Pitcher Relief_Pitcher Relief_Pitcher Relief_Pitcher Relief_Pitcher Relief_Pitcher Relief_Pitcher Catcher Catcher Catcher First_Baseman Second_Baseman Second_Baseman Shortstop Shortstop Third_Baseman Outfielder Outfielder Outfielder Outfielder Outfielder Outfielder Outfielder Designated_Hitter Starting_Pitcher Starting_Pitcher Starting_Pitcher Starting_Pitcher Starting_Pitcher Starting_Pitcher Starting_Pitcher Starting_Pitcher Starting_Pitcher Starting_Pitcher Relief_Pitcher Relief_Pitcher Relief_Pitcher Relief_Pitcher Relief_Pitcher Relief_Pitcher Relief_Pitcher Relief_Pitcher Catcher Catcher First_Baseman First_Baseman Second_Baseman Second_Baseman Shortstop Shortstop Third_Baseman Outfielder Outfielder Outfielder Outfielder Outfielder Outfielder Outfielder Starting_Pitcher Starting_Pitcher Starting_Pitcher Starting_Pitcher Starting_Pitcher Starting_Pitcher Starting_Pitcher Starting_Pitcher Starting_Pitcher Relief_Pitcher Relief_Pitcher Relief_Pitcher Relief_Pitcher Relief_Pitcher Relief_Pitcher Relief_Pitcher Relief_Pitcher Relief_Pitcher Relief_Pitcher Relief_Pitcher Relief_Pitcher Relief_Pitcher Catcher Catcher Catcher First_Baseman First_Baseman Second_Baseman Second_Baseman Second_Baseman Second_Baseman Second_Baseman Shortstop Third_Baseman Outfielder Outfielder Outfielder Outfielder Outfielder Starting_Pitcher Starting_Pitcher Starting_Pitcher Starting_Pitcher Starting_Pitcher Starting_Pitcher Starting_Pitcher Relief_Pitcher Relief_Pitcher Relief_Pitcher Relief_Pitcher Relief_Pitcher Relief_Pitcher Relief_Pitcher Relief_Pitcher Relief_Pitcher Relief_Pitcher Catcher Catcher First_Baseman First_Baseman First_Baseman Second_Baseman Second_Baseman Second_Baseman Shortstop Third_Baseman Third_Baseman Outfielder Outfielder Outfielder Outfielder Outfielder Outfielder Starting_Pitcher Starting_Pitcher Starting_Pitcher Starting_Pitcher Starting_Pitcher Starting_Pitcher Relief_Pitcher Relief_Pitcher Relief_Pitcher Relief_Pitcher Relief_Pitcher Relief_Pitcher Relief_Pitcher Relief_Pitcher Relief_Pitcher Relief_Pitcher Catcher Catcher Catcher Catcher First_Baseman First_Baseman Second_Baseman Second_Baseman Shortstop Third_Baseman Outfielder Outfielder Outfielder Outfielder Outfielder Outfielder Designated_Hitter Starting_Pitcher Starting_Pitcher Starting_Pitcher Starting_Pitcher Starting_Pitcher Starting_Pitcher Starting_Pitcher Starting_Pitcher Relief_Pitcher Relief_Pitcher Relief_Pitcher Relief_Pitcher Relief_Pitcher Relief_Pitcher Relief_Pitcher Relief_Pitcher Relief_Pitcher Relief_Pitcher Relief_Pitcher Catcher Catcher Catcher Catcher First_Baseman Second_Baseman Second_Baseman Shortstop Shortstop Shortstop Third_Baseman Third_Baseman Outfielder Outfielder Outfielder Outfielder Outfielder Outfielder Outfielder Outfielder Starting_Pitcher Starting_Pitcher Starting_Pitcher Starting_Pitcher Starting_Pitcher Starting_Pitcher Starting_Pitcher Relief_Pitcher Relief_Pitcher Relief_Pitcher Relief_Pitcher Relief_Pitcher Relief_Pitcher Relief_Pitcher Relief_Pitcher Catcher Catcher First_Baseman Second_Baseman Second_Baseman Shortstop Shortstop Outfielder Outfielder Outfielder Outfielder Outfielder Outfielder Outfielder Designated_Hitter Starting_Pitcher Starting_Pitcher Starting_Pitcher Starting_Pitcher Starting_Pitcher Relief_Pitcher Relief_Pitcher Relief_Pitcher Relief_Pitcher Relief_Pitcher Relief_Pitcher Relief_Pitcher Relief_Pitcher Relief_Pitcher Relief_Pitcher Relief_Pitcher Relief_Pitcher Relief_Pitcher Catcher Catcher First_Baseman First_Baseman Second_Baseman Shortstop Shortstop Shortstop Third_Baseman Outfielder Outfielder Outfielder Outfielder Outfielder Outfielder Outfielder Starting_Pitcher Starting_Pitcher Starting_Pitcher Starting_Pitcher Starting_Pitcher Starting_Pitcher Relief_Pitcher Relief_Pitcher Relief_Pitcher Relief_Pitcher Relief_Pitcher Relief_Pitcher Relief_Pitcher Relief_Pitcher Relief_Pitcher Relief_Pitcher Relief_Pitcher Relief_Pitcher Relief_Pitcher Relief_Pitcher Catcher Catcher First_Baseman First_Baseman First_Baseman Second_Baseman Shortstop Third_Baseman Outfielder Outfielder Outfielder Outfielder Outfielder Outfielder Outfielder Starting_Pitcher Starting_Pitcher Starting_Pitcher Starting_Pitcher Starting_Pitcher Starting_Pitcher Starting_Pitcher Starting_Pitcher Starting_Pitcher Starting_Pitcher Relief_Pitcher Relief_Pitcher Relief_Pitcher Relief_Pitcher Relief_Pitcher Relief_Pitcher Relief_Pitcher Relief_Pitcher Relief_Pitcher Relief_Pitcher Catcher Catcher First_Baseman First_Baseman Second_Baseman Second_Baseman Shortstop Third_Baseman Third_Baseman Outfielder Outfielder Outfielder Outfielder Outfielder Outfielder Outfielder Starting_Pitcher Starting_Pitcher Starting_Pitcher Starting_Pitcher Starting_Pitcher Starting_Pitcher Starting_Pitcher Relief_Pitcher Relief_Pitcher Relief_Pitcher Relief_Pitcher Relief_Pitcher Relief_Pitcher Relief_Pitcher Relief_Pitcher Relief_Pitcher Relief_Pitcher Relief_Pitcher Catcher Catcher First_Baseman First_Baseman Second_Baseman Second_Baseman Shortstop Third_Baseman Third_Baseman Outfielder Outfielder Outfielder Outfielder Outfielder Outfielder Starting_Pitcher Starting_Pitcher Starting_Pitcher Starting_Pitcher Starting_Pitcher Starting_Pitcher Relief_Pitcher Relief_Pitcher Relief_Pitcher Relief_Pitcher Relief_Pitcher Relief_Pitcher Relief_Pitcher Relief_Pitcher Relief_Pitcher Relief_Pitcher Relief_Pitcher]"
      ]
     },
     "execution_count": 76,
     "metadata": {},
     "output_type": "execute_result"
    }
   ],
   "source": [
    "df.Col(\"Position\")"
   ]
  },
  {
   "cell_type": "code",
   "execution_count": 79,
   "metadata": {},
   "outputs": [],
   "source": [
    "func UniqueValues(df dataframe.DataFrame, col string) []string {\n",
    "    var ret []string\n",
    "    m := make(map[string]bool)\n",
    "    for _, val := range df.Col(col).Records() {\n",
    "        m[val] = true\n",
    "    }\n",
    "    for key := range m {\n",
    "        ret = append(ret, key)\n",
    "    }\n",
    "    return ret\n",
    "}"
   ]
  },
  {
   "cell_type": "code",
   "execution_count": 80,
   "metadata": {},
   "outputs": [
    {
     "data": {
      "text/plain": [
       "[Shortstop Outfielder Starting_Pitcher Relief_Pitcher Second_Baseman First_Baseman Third_Baseman Designated_Hitter Catcher]"
      ]
     },
     "execution_count": 80,
     "metadata": {},
     "output_type": "execute_result"
    }
   ],
   "source": [
    "UniqueValues(df, \"Position\")"
   ]
  },
  {
   "cell_type": "code",
   "execution_count": 111,
   "metadata": {},
   "outputs": [],
   "source": [
    "func OneHotSeries(df dataframe.DataFrame, col string, vals []string) ([]series.Series){\n",
    "    m := make(map[string]int)\n",
    "    s := make([]series.Series, len(vals), len(vals))\n",
    "    //cache the mapping for performance reasons\n",
    "    for i := range vals {\n",
    "        m[vals[i]] = i\n",
    "    }\n",
    "    for i := range s {\n",
    "        vals := make([]int, df.Col(col).Len(),df.Col(col).Len())\n",
    "        for j, val := range df.Col(col).Records() {\n",
    "            if i == m[val] {\n",
    "                vals[j] = 1\n",
    "            }\n",
    "        }\n",
    "        s[i] = series.Ints(vals)\n",
    "    }\n",
    "    for i := range vals {\n",
    "        s[i].Name = vals[i]\n",
    "    }\n",
    "    return s\n",
    "}"
   ]
  },
  {
   "cell_type": "code",
   "execution_count": 112,
   "metadata": {},
   "outputs": [],
   "source": [
    "ohSeries := OneHotSeries(df, \"Position\", UniqueValues(df, \"Position\"))\n",
    "dfEncoded := df.Mutate(ohSeries[0])\n",
    "for i := 1; i < len(ohSeries); i++ {\n",
    "    dfEncoded = dfEncoded.Mutate(ohSeries[i])\n",
    "}"
   ]
  },
  {
   "cell_type": "code",
   "execution_count": 114,
   "metadata": {},
   "outputs": [],
   "source": []
  },
  {
   "cell_type": "code",
   "execution_count": 115,
   "metadata": {},
   "outputs": [
    {
     "data": {
      "text/plain": [
       "[1034x13] DataFrame\n",
       "\n",
       "    Position       Height   Weight   Age       Shortstop Catcher ...\n",
       " 0: Catcher        0.437500 0.214286 22.990000 0         1       ...\n",
       " 1: Catcher        0.437500 0.464286 34.690000 0         1       ...\n",
       " 2: Catcher        0.312500 0.428571 30.780000 0         1       ...\n",
       " 3: First_Baseman  0.312500 0.428571 35.430000 0         0       ...\n",
       " 4: First_Baseman  0.375000 0.271429 35.710000 0         0       ...\n",
       " 5: Second_Baseman 0.125000 0.185714 29.390000 0         0       ...\n",
       " 6: Shortstop      0.125000 0.421429 30.770000 1         0       ...\n",
       " 7: Third_Baseman  0.250000 0.357143 35.070000 0         0       ...\n",
       " 8: Third_Baseman  0.562500 0.578571 30.190000 0         0       ...\n",
       " 9: Outfielder     0.250000 0.214286 27.050000 0         0       ...\n",
       "    ...            ...      ...      ...       ...       ...     ...\n",
       "    <string>       <float>  <float>  <float>   <int>     <int>   ...\n",
       "\n",
       "Not Showing: Second_Baseman <int>, Outfielder <int>, Designated_Hitter <int>,\n",
       "Starting_Pitcher <int>, Relief_Pitcher <int>, First_Baseman <int>, Third_Baseman <int>\n"
      ]
     },
     "execution_count": 115,
     "metadata": {},
     "output_type": "execute_result"
    }
   ],
   "source": [
    "dfEncoded"
   ]
  },
  {
   "cell_type": "code",
   "execution_count": 118,
   "metadata": {},
   "outputs": [],
   "source": [
    "dfEncoded = dfEncoded.Drop(\"Position\")"
   ]
  },
  {
   "cell_type": "code",
   "execution_count": 119,
   "metadata": {},
   "outputs": [
    {
     "data": {
      "text/plain": [
       "[1034x12] DataFrame\n",
       "\n",
       "    Height   Weight   Age       Shortstop Catcher Second_Baseman Outfielder ...\n",
       " 0: 0.437500 0.214286 22.990000 0         1       0              0          ...\n",
       " 1: 0.437500 0.464286 34.690000 0         1       0              0          ...\n",
       " 2: 0.312500 0.428571 30.780000 0         1       0              0          ...\n",
       " 3: 0.312500 0.428571 35.430000 0         0       0              0          ...\n",
       " 4: 0.375000 0.271429 35.710000 0         0       0              0          ...\n",
       " 5: 0.125000 0.185714 29.390000 0         0       1              0          ...\n",
       " 6: 0.125000 0.421429 30.770000 1         0       0              0          ...\n",
       " 7: 0.250000 0.357143 35.070000 0         0       0              0          ...\n",
       " 8: 0.562500 0.578571 30.190000 0         0       0              0          ...\n",
       " 9: 0.250000 0.214286 27.050000 0         0       0              1          ...\n",
       "    ...      ...      ...       ...       ...     ...            ...        ...\n",
       "    <float>  <float>  <float>   <int>     <int>   <int>          <int>      ...\n",
       "\n",
       "Not Showing: Designated_Hitter <int>, Starting_Pitcher <int>, Relief_Pitcher <int>,\n",
       "First_Baseman <int>, Third_Baseman <int>\n"
      ]
     },
     "execution_count": 119,
     "metadata": {},
     "output_type": "execute_result"
    }
   ],
   "source": [
    "dfEncoded"
   ]
  },
  {
   "cell_type": "code",
   "execution_count": null,
   "metadata": {},
   "outputs": [],
   "source": []
  }
 ],
 "metadata": {
  "kernelspec": {
   "display_name": "Go",
   "language": "go",
   "name": "gophernotes"
  },
  "language_info": {
   "codemirror_mode": "",
   "file_extension": ".go",
   "mimetype": "",
   "name": "go",
   "nbconvert_exporter": "",
   "pygments_lexer": "",
   "version": "go1.11.4"
  }
 },
 "nbformat": 4,
 "nbformat_minor": 2
}
